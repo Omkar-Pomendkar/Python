{
 "cells": [
  {
   "cell_type": "code",
   "execution_count": 8,
   "id": "3a2bcd71",
   "metadata": {},
   "outputs": [
    {
     "name": "stdout",
     "output_type": "stream",
     "text": [
      "Enter your E-mailommksmvkmkvd\n",
      "Your Email is Wrong\n"
     ]
    }
   ],
   "source": [
    "# Correct email - \"omkarpomendkar100@gmail.com\"\n",
    "# Correct password - \"1123456789\"\n",
    "\n",
    "\n",
    "email = input(\"Enter your E-mail\")\n",
    "if \"@\" in email:\n",
    "    password = input(\"Enter your password\")\n",
    "\n",
    "    if email == \"omkarpomendkar100@gmail.com\" and password == \"1123456789\":\n",
    "        print(\"Welcome on Board\")\n",
    "    elif email == \"omkarpomendkar100@gmail.com\" and password !=\"1123456789\":\n",
    "        print(\"Enter password Again\")\n",
    "        password = input(\"Enter your password\")\n",
    "        if password == \"11234567689\":\n",
    "            print(\"Correct Password\")\n",
    "        else :\n",
    "            print(\"Still InCorrect\")\n",
    "    else:\n",
    "        print(\"incorrect Password\")\n",
    "else:\n",
    "    print(\"Your Email is Wrong\")"
   ]
  },
  {
   "cell_type": "code",
   "execution_count": 1,
   "id": "276dbf6b",
   "metadata": {},
   "outputs": [
    {
     "name": "stdout",
     "output_type": "stream",
     "text": [
      "Omkar Pomendkar\n"
     ]
    }
   ],
   "source": [
    "if True :\n",
    "    print(\"Omkar Pomendkar\")"
   ]
  },
  {
   "cell_type": "code",
   "execution_count": 2,
   "id": "5089deaf",
   "metadata": {},
   "outputs": [],
   "source": [
    "if False :\n",
    "    print(\"Omkar Pomendkar\")"
   ]
  },
  {
   "cell_type": "code",
   "execution_count": null,
   "id": "6af69eee",
   "metadata": {},
   "outputs": [],
   "source": []
  }
 ],
 "metadata": {
  "kernelspec": {
   "display_name": "Python 3 (ipykernel)",
   "language": "python",
   "name": "python3"
  },
  "language_info": {
   "codemirror_mode": {
    "name": "ipython",
    "version": 3
   },
   "file_extension": ".py",
   "mimetype": "text/x-python",
   "name": "python",
   "nbconvert_exporter": "python",
   "pygments_lexer": "ipython3",
   "version": "3.9.13"
  }
 },
 "nbformat": 4,
 "nbformat_minor": 5
}
