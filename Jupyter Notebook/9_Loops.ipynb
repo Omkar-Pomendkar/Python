{
 "cells": [
  {
   "cell_type": "code",
   "execution_count": 21,
   "id": "66c0182e",
   "metadata": {},
   "outputs": [
    {
     "name": "stdout",
     "output_type": "stream",
     "text": [
      "Enter the Number10\n",
      "10 X 1 = 10\n",
      "10 X 2 = 20\n",
      "10 X 3 = 30\n",
      "10 X 4 = 40\n",
      "10 X 5 = 50\n",
      "10 X 6 = 60\n",
      "10 X 7 = 70\n",
      "10 X 8 = 80\n",
      "10 X 9 = 90\n"
     ]
    }
   ],
   "source": [
    "# 2X1=2\n",
    "num = int(input(\"Enter the Number\"))\n",
    "i = 1\n",
    "while (i < 10):\n",
    "    print(num,\"X\",i,\"=\",num*i)\n",
    "    i += 1"
   ]
  },
  {
   "cell_type": "code",
   "execution_count": 28,
   "id": "7bda29ab",
   "metadata": {},
   "outputs": [
    {
     "name": "stdout",
     "output_type": "stream",
     "text": [
      "Enter the Number5\n",
      "92\n",
      "Guess Higher\n",
      "Enter the Number92\n",
      "Pefect Guess\n",
      "2\n"
     ]
    }
   ],
   "source": [
    "import random\n",
    "\n",
    "num = int(input(\"Enter the Number\"))\n",
    "counter = 1\n",
    "\n",
    "randoms = random.randint(1,100) \n",
    "print(randoms)\n",
    "\n",
    "while num != randoms:\n",
    "    if num > randoms:\n",
    "        print(\"Guess Lower\")\n",
    "    else:\n",
    "        print(\"Guess Higher\")\n",
    "    num = int(input(\"Enter the Number\"))\n",
    "    counter += 1\n",
    "\n",
    "print(\"Pefect Guess\")\n",
    "print(counter)\n",
    "\n",
    "    \n",
    "    \n",
    "    \n",
    "    \n",
    "    \n",
    "    \n",
    "    \n",
    "    \n",
    "# if(num == randoms):\n",
    "#     print(\"Guess Perfect\",num)\n",
    "# elif (num < randoms):\n",
    "#     print(\"Guess a Lower Number\")\n",
    "# elif (num > randoms):\n",
    "#     print(\"Guess a Higher Number\")\n"
   ]
  },
  {
   "cell_type": "code",
   "execution_count": 29,
   "id": "585c954a",
   "metadata": {},
   "outputs": [
    {
     "name": "stdout",
     "output_type": "stream",
     "text": [
      "1\n",
      "2\n",
      "3\n",
      "4\n",
      "5\n",
      "6\n",
      "7\n",
      "8\n",
      "9\n",
      "10\n",
      "11\n",
      "12\n",
      "13\n",
      "14\n",
      "15\n",
      "16\n",
      "17\n",
      "18\n",
      "19\n",
      "20\n",
      "21\n",
      "22\n",
      "23\n",
      "24\n",
      "25\n",
      "26\n",
      "27\n",
      "28\n"
     ]
    }
   ],
   "source": [
    "for i in range(1,29):\n",
    "    print(i)"
   ]
  },
  {
   "cell_type": "code",
   "execution_count": 1,
   "id": "c5ea4e86",
   "metadata": {},
   "outputs": [
    {
     "name": "stdout",
     "output_type": "stream",
     "text": [
      "1\n",
      "2\n",
      "3\n",
      "4\n",
      "5\n",
      "6\n",
      "7\n",
      "8\n",
      "9\n",
      "10\n"
     ]
    }
   ],
   "source": [
    "l = [1,2,3,4,5,6,7,8,9,10]\n",
    "for i in l:\n",
    "    print(i)"
   ]
  },
  {
   "cell_type": "code",
   "execution_count": 5,
   "id": "8c81a8b2",
   "metadata": {},
   "outputs": [
    {
     "name": "stdout",
     "output_type": "stream",
     "text": [
      "Enter the Number5\n",
      "5\n",
      "10\n",
      "15\n",
      "20\n",
      "25\n",
      "30\n",
      "35\n",
      "40\n",
      "45\n",
      "50\n"
     ]
    }
   ],
   "source": [
    "num = int(input(\"Enter the Number\"))\n",
    "for i in range(1,11):\n",
    "    print(i*num)"
   ]
  },
  {
   "cell_type": "code",
   "execution_count": null,
   "id": "2c15f0ee",
   "metadata": {},
   "outputs": [],
   "source": []
  }
 ],
 "metadata": {
  "kernelspec": {
   "display_name": "Python 3 (ipykernel)",
   "language": "python",
   "name": "python3"
  },
  "language_info": {
   "codemirror_mode": {
    "name": "ipython",
    "version": 3
   },
   "file_extension": ".py",
   "mimetype": "text/x-python",
   "name": "python",
   "nbconvert_exporter": "python",
   "pygments_lexer": "ipython3",
   "version": "3.9.13"
  }
 },
 "nbformat": 4,
 "nbformat_minor": 5
}
