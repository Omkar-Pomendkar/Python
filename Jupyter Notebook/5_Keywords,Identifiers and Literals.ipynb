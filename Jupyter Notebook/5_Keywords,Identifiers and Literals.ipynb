{
 "cells": [
  {
   "cell_type": "markdown",
   "id": "fcc9feac",
   "metadata": {},
   "source": [
    "# Keyword\n",
    "Python is a case sensitive programming Language"
   ]
  },
  {
   "cell_type": "code",
   "execution_count": 1,
   "id": "ef028d85",
   "metadata": {},
   "outputs": [],
   "source": [
    "# python Keyword"
   ]
  },
  {
   "cell_type": "code",
   "execution_count": 2,
   "id": "f1757f50",
   "metadata": {},
   "outputs": [
    {
     "name": "stdout",
     "output_type": "stream",
     "text": [
      "['False', 'None', 'True', '__peg_parser__', 'and', 'as', 'assert', 'async', 'await', 'break', 'class', 'continue', 'def', 'del', 'elif', 'else', 'except', 'finally', 'for', 'from', 'global', 'if', 'import', 'in', 'is', 'lambda', 'nonlocal', 'not', 'or', 'pass', 'raise', 'return', 'try', 'while', 'with', 'yield']\n"
     ]
    }
   ],
   "source": [
    "import keyword as kwlist\n",
    "print(kwlist.kwlist)"
   ]
  },
  {
   "cell_type": "markdown",
   "id": "534ade16",
   "metadata": {},
   "source": [
    "# Identifiers\n",
    "A python identifier is a name used to identify Variable ,Function, Class , Methods modules or Object"
   ]
  },
  {
   "cell_type": "code",
   "execution_count": 3,
   "id": "85541ff6",
   "metadata": {},
   "outputs": [],
   "source": [
    "# Rules for Setting identifiers"
   ]
  },
  {
   "cell_type": "raw",
   "id": "39ce2e45",
   "metadata": {},
   "source": [
    "Variable - name,omkar,_laptop,_google\n",
    "Functions - break(),speed()\n",
    "Class - Person,Employee\n",
    "Object - p = Person()\n"
   ]
  },
  {
   "cell_type": "markdown",
   "id": "cf8c58d0",
   "metadata": {},
   "source": [
    "# Literals are raw data given to Variables"
   ]
  },
  {
   "cell_type": "markdown",
   "id": "0cf4b46e",
   "metadata": {},
   "source": [
    "1) Numeric Literals\n",
    "2) String Literals\n",
    "3) Boolean Literals\n",
    "4) Special Literals"
   ]
  },
  {
   "cell_type": "markdown",
   "id": "6586aea6",
   "metadata": {},
   "source": [
    "# 1.Numeric Lierals"
   ]
  },
  {
   "cell_type": "code",
   "execution_count": 5,
   "id": "3041c653",
   "metadata": {},
   "outputs": [
    {
     "name": "stdout",
     "output_type": "stream",
     "text": [
      "10 100 200 300\n",
      "10.5 150.0 0.0015\n",
      "3.14j 3.14 0.0\n"
     ]
    }
   ],
   "source": [
    "a = 0b1010 #Binary Literals\n",
    "b = 100 #Decimal Literal \n",
    "c = 0o310 #Octal Literal\n",
    "d = 0x12c #Hexadecimal Literal\n",
    "\n",
    "#Float Literal\n",
    "float_1 = 10.5 \n",
    "float_2 = 1.5e2\n",
    "float_3 = 1.5e-3\n",
    "\n",
    "#Complex Literal \n",
    "x = 3.14j\n",
    "\n",
    "print(a, b, c, d)\n",
    "print(float_1, float_2,float_3)\n",
    "print(x, x.imag, x.real)"
   ]
  },
  {
   "cell_type": "markdown",
   "id": "e986a04b",
   "metadata": {},
   "source": [
    "# 2. String Literals"
   ]
  },
  {
   "cell_type": "code",
   "execution_count": 6,
   "id": "8c3d3712",
   "metadata": {},
   "outputs": [
    {
     "name": "stdout",
     "output_type": "stream",
     "text": [
      "This is Python\n",
      "This is Python\n",
      "C\n",
      "This is a multiline string with more than one line code.\n",
      "😀😆🤣\n",
      "raw \\n string\n"
     ]
    }
   ],
   "source": [
    "string = 'This is Python'\n",
    "strings = \"This is Python\"\n",
    "char = \"C\"\n",
    "multiline_str = \"\"\"This is a multiline string with more than one line code.\"\"\"\n",
    "unicode = u\"\\U0001f600\\U0001F606\\U0001F923\"\n",
    "raw_str = r\"raw \\n string\"\n",
    "\n",
    "print(string)\n",
    "print(strings)\n",
    "print(char)\n",
    "print(multiline_str)\n",
    "print(unicode)\n",
    "print(raw_str)"
   ]
  },
  {
   "cell_type": "code",
   "execution_count": 8,
   "id": "0c184ebc",
   "metadata": {},
   "outputs": [
    {
     "name": "stdout",
     "output_type": "stream",
     "text": [
      "11 -10\n"
     ]
    }
   ],
   "source": [
    "# 3. Boolean Literal\n",
    "a = True + 10\n",
    "b = False - 10\n",
    "print(a,b)"
   ]
  },
  {
   "cell_type": "code",
   "execution_count": 10,
   "id": "5f3d0e42",
   "metadata": {},
   "outputs": [
    {
     "name": "stdout",
     "output_type": "stream",
     "text": [
      "None\n"
     ]
    }
   ],
   "source": [
    "# None is used to Declare Variable\n",
    "n = None\n",
    "print(n)"
   ]
  },
  {
   "cell_type": "code",
   "execution_count": null,
   "id": "e4fc732c",
   "metadata": {},
   "outputs": [],
   "source": []
  }
 ],
 "metadata": {
  "kernelspec": {
   "display_name": "Python 3 (ipykernel)",
   "language": "python",
   "name": "python3"
  },
  "language_info": {
   "codemirror_mode": {
    "name": "ipython",
    "version": 3
   },
   "file_extension": ".py",
   "mimetype": "text/x-python",
   "name": "python",
   "nbconvert_exporter": "python",
   "pygments_lexer": "ipython3",
   "version": "3.9.13"
  }
 },
 "nbformat": 4,
 "nbformat_minor": 5
}
