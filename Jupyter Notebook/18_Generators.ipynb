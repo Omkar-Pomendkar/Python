{
 "cells": [
  {
   "cell_type": "markdown",
   "id": "b2fd9225",
   "metadata": {},
   "source": [
    "## What is Generators?"
   ]
  },
  {
   "cell_type": "markdown",
   "id": "5f68e7b8",
   "metadata": {},
   "source": [
    "Python <b>generators</b> are Simple way of creating iterators"
   ]
  },
  {
   "cell_type": "code",
   "execution_count": 1,
   "id": "6f69e6ba",
   "metadata": {},
   "outputs": [],
   "source": [
    "# Simple Example of python Generator\n",
    "# In generator there is no return keyword there is Yield Keyword"
   ]
  },
  {
   "cell_type": "code",
   "execution_count": 9,
   "id": "8e5c76bf",
   "metadata": {},
   "outputs": [],
   "source": [
    "def gen_demo():\n",
    "    \n",
    "    yield \"First Statement\"\n",
    "    yield \"Second Statement\"\n",
    "    yield \"Third Statement\""
   ]
  },
  {
   "cell_type": "code",
   "execution_count": 10,
   "id": "93aa7e44",
   "metadata": {},
   "outputs": [
    {
     "name": "stdout",
     "output_type": "stream",
     "text": [
      "First Statement\n",
      "Second Statement\n",
      "Third Statement\n"
     ]
    }
   ],
   "source": [
    "gen = gen_demo()\n",
    "print(next(gen))\n",
    "print(next(gen))\n",
    "print(next(gen))"
   ]
  },
  {
   "cell_type": "code",
   "execution_count": 14,
   "id": "1bcbd2e9",
   "metadata": {},
   "outputs": [
    {
     "name": "stdout",
     "output_type": "stream",
     "text": [
      "First Statement\n",
      "Second Statement\n",
      "Third Statement\n"
     ]
    }
   ],
   "source": [
    "gen = gen_demo()\n",
    "for i in gen:\n",
    "    print(i)"
   ]
  },
  {
   "cell_type": "code",
   "execution_count": null,
   "id": "56eec1ea",
   "metadata": {},
   "outputs": [],
   "source": []
  }
 ],
 "metadata": {
  "kernelspec": {
   "display_name": "Python 3 (ipykernel)",
   "language": "python",
   "name": "python3"
  },
  "language_info": {
   "codemirror_mode": {
    "name": "ipython",
    "version": 3
   },
   "file_extension": ".py",
   "mimetype": "text/x-python",
   "name": "python",
   "nbconvert_exporter": "python",
   "pygments_lexer": "ipython3",
   "version": "3.9.13"
  }
 },
 "nbformat": 4,
 "nbformat_minor": 5
}
