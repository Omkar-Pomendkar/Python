{
 "cells": [
  {
   "cell_type": "markdown",
   "id": "74293ff6",
   "metadata": {},
   "source": [
    "# Variable are container for feature use"
   ]
  },
  {
   "cell_type": "code",
   "execution_count": 5,
   "id": "0b18272b",
   "metadata": {},
   "outputs": [],
   "source": [
    "# int c = 89 # Static Typing\n",
    "a = 5\n",
    "name = \"omkar\"  # Dynamic Typing"
   ]
  },
  {
   "cell_type": "code",
   "execution_count": 6,
   "id": "29e40631",
   "metadata": {},
   "outputs": [],
   "source": [
    "name = \"Hello world\""
   ]
  },
  {
   "cell_type": "code",
   "execution_count": 7,
   "id": "d341d3c8",
   "metadata": {},
   "outputs": [],
   "source": [
    "# no Variable Declaration"
   ]
  },
  {
   "cell_type": "code",
   "execution_count": 9,
   "id": "f2debee4",
   "metadata": {},
   "outputs": [
    {
     "name": "stdout",
     "output_type": "stream",
     "text": [
      "78\n"
     ]
    }
   ],
   "source": [
    "name = 78\n",
    "print(name)"
   ]
  },
  {
   "cell_type": "code",
   "execution_count": 10,
   "id": "93166a6e",
   "metadata": {},
   "outputs": [],
   "source": [
    "# Dynamic Binding - One Variable able to store Multiple Datatype"
   ]
  },
  {
   "cell_type": "code",
   "execution_count": 11,
   "id": "12e95499",
   "metadata": {},
   "outputs": [
    {
     "name": "stdout",
     "output_type": "stream",
     "text": [
      "10\n"
     ]
    }
   ],
   "source": [
    "# Special Syntax\n",
    "a = 10; b = 67;c = 90\n",
    "print (a)"
   ]
  },
  {
   "cell_type": "code",
   "execution_count": 2,
   "id": "c6ef6a87",
   "metadata": {},
   "outputs": [],
   "source": [
    "# In Python Variable are Dynamically Binding to each other"
   ]
  },
  {
   "cell_type": "code",
   "execution_count": null,
   "id": "416ad09e",
   "metadata": {},
   "outputs": [],
   "source": []
  }
 ],
 "metadata": {
  "kernelspec": {
   "display_name": "Python 3 (ipykernel)",
   "language": "python",
   "name": "python3"
  },
  "language_info": {
   "codemirror_mode": {
    "name": "ipython",
    "version": 3
   },
   "file_extension": ".py",
   "mimetype": "text/x-python",
   "name": "python",
   "nbconvert_exporter": "python",
   "pygments_lexer": "ipython3",
   "version": "3.9.13"
  }
 },
 "nbformat": 4,
 "nbformat_minor": 5
}
