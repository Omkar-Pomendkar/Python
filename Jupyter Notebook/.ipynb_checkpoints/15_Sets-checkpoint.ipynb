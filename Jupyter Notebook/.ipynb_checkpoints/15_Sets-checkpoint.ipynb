{
 "cells": [
  {
   "cell_type": "markdown",
   "id": "29f9fda7",
   "metadata": {},
   "source": [
    "# Sets"
   ]
  },
  {
   "cell_type": "markdown",
   "id": "9ea2830f",
   "metadata": {},
   "source": [
    "4 Rules of Sets\n",
    "1) Sets do not allow Duplicates\n",
    "2) Sets have no indexing / Slicing\n",
    "3) Sets do not allow Mutable Datatypes\n",
    "4) Sets is a Mutable Datatype"
   ]
  },
  {
   "cell_type": "code",
   "execution_count": 8,
   "id": "f67cc9e5",
   "metadata": {},
   "outputs": [],
   "source": [
    "s = {1,2,3,2,33,2,4,6,6,8,94,10}"
   ]
  },
  {
   "cell_type": "code",
   "execution_count": 2,
   "id": "8f68ff46",
   "metadata": {},
   "outputs": [
    {
     "name": "stdout",
     "output_type": "stream",
     "text": [
      "{1, 2, 3, 4, 33, 6, 8, 10, 94}\n"
     ]
    }
   ],
   "source": [
    "print(s)"
   ]
  },
  {
   "cell_type": "code",
   "execution_count": 5,
   "id": "a943332e",
   "metadata": {},
   "outputs": [],
   "source": [
    "s1 = {2,3,4,5}"
   ]
  },
  {
   "cell_type": "code",
   "execution_count": 6,
   "id": "6e613be5",
   "metadata": {},
   "outputs": [
    {
     "data": {
      "text/plain": [
       "{2, 3, 4, 5}"
      ]
     },
     "execution_count": 6,
     "metadata": {},
     "output_type": "execute_result"
    }
   ],
   "source": [
    "s"
   ]
  },
  {
   "cell_type": "code",
   "execution_count": 7,
   "id": "d7cc2ad5",
   "metadata": {},
   "outputs": [
    {
     "data": {
      "text/plain": [
       "{2, 3, 4, 5}"
      ]
     },
     "execution_count": 7,
     "metadata": {},
     "output_type": "execute_result"
    }
   ],
   "source": [
    "s1"
   ]
  },
  {
   "cell_type": "code",
   "execution_count": 9,
   "id": "4b07d09d",
   "metadata": {},
   "outputs": [
    {
     "data": {
      "text/plain": [
       "{1, 2, 3, 4, 6, 8, 10, 33, 94}"
      ]
     },
     "execution_count": 9,
     "metadata": {},
     "output_type": "execute_result"
    }
   ],
   "source": [
    "s"
   ]
  },
  {
   "cell_type": "code",
   "execution_count": 11,
   "id": "1aa0ed49",
   "metadata": {},
   "outputs": [],
   "source": [
    "r = set()"
   ]
  },
  {
   "cell_type": "code",
   "execution_count": 12,
   "id": "599b09ff",
   "metadata": {},
   "outputs": [
    {
     "data": {
      "text/plain": [
       "set"
      ]
     },
     "execution_count": 12,
     "metadata": {},
     "output_type": "execute_result"
    }
   ],
   "source": [
    "type(r)"
   ]
  },
  {
   "cell_type": "code",
   "execution_count": 13,
   "id": "b142ee73",
   "metadata": {},
   "outputs": [],
   "source": [
    "t = {}"
   ]
  },
  {
   "cell_type": "code",
   "execution_count": 14,
   "id": "63db622b",
   "metadata": {},
   "outputs": [
    {
     "data": {
      "text/plain": [
       "dict"
      ]
     },
     "execution_count": 14,
     "metadata": {},
     "output_type": "execute_result"
    }
   ],
   "source": [
    "type(t)"
   ]
  },
  {
   "cell_type": "code",
   "execution_count": 15,
   "id": "e339abe9",
   "metadata": {},
   "outputs": [],
   "source": [
    "s = {\"Omkar\",123323,\"Pomendkar\",4,5,6}"
   ]
  },
  {
   "cell_type": "code",
   "execution_count": 16,
   "id": "ea6c6f70",
   "metadata": {},
   "outputs": [
    {
     "data": {
      "text/plain": [
       "{123323, 4, 5, 6, 'Omkar', 'Pomendkar'}"
      ]
     },
     "execution_count": 16,
     "metadata": {},
     "output_type": "execute_result"
    }
   ],
   "source": [
    "s"
   ]
  },
  {
   "cell_type": "code",
   "execution_count": 17,
   "id": "69e2fa6e",
   "metadata": {},
   "outputs": [],
   "source": [
    "# IN sets Hashing is Followed"
   ]
  },
  {
   "cell_type": "code",
   "execution_count": 18,
   "id": "7d4e1a26",
   "metadata": {},
   "outputs": [
    {
     "ename": "KeyError",
     "evalue": "0",
     "output_type": "error",
     "traceback": [
      "\u001b[1;31m---------------------------------------------------------------------------\u001b[0m",
      "\u001b[1;31mKeyError\u001b[0m                                  Traceback (most recent call last)",
      "\u001b[1;32mC:\\PROGRA~1\\KMSpico\\temp/ipykernel_3416/1759991249.py\u001b[0m in \u001b[0;36m<module>\u001b[1;34m\u001b[0m\n\u001b[1;32m----> 1\u001b[1;33m \u001b[0mt\u001b[0m\u001b[1;33m[\u001b[0m\u001b[1;36m0\u001b[0m\u001b[1;33m]\u001b[0m\u001b[1;33m\u001b[0m\u001b[1;33m\u001b[0m\u001b[0m\n\u001b[0m",
      "\u001b[1;31mKeyError\u001b[0m: 0"
     ]
    }
   ],
   "source": [
    "t[0]"
   ]
  },
  {
   "cell_type": "code",
   "execution_count": 19,
   "id": "c398de6d",
   "metadata": {},
   "outputs": [],
   "source": [
    "f = {1,2,3,4,5,4,3,3,2,1}"
   ]
  },
  {
   "cell_type": "code",
   "execution_count": 20,
   "id": "f249f613",
   "metadata": {},
   "outputs": [
    {
     "data": {
      "text/plain": [
       "set"
      ]
     },
     "execution_count": 20,
     "metadata": {},
     "output_type": "execute_result"
    }
   ],
   "source": [
    "type(f)"
   ]
  },
  {
   "cell_type": "code",
   "execution_count": 40,
   "id": "77ea3b9f",
   "metadata": {},
   "outputs": [
    {
     "data": {
      "text/plain": [
       "2808561123392"
      ]
     },
     "execution_count": 40,
     "metadata": {},
     "output_type": "execute_result"
    }
   ],
   "source": [
    "id(f)"
   ]
  },
  {
   "cell_type": "code",
   "execution_count": 41,
   "id": "f1ac88cf",
   "metadata": {},
   "outputs": [],
   "source": [
    "ft = list(f)"
   ]
  },
  {
   "cell_type": "code",
   "execution_count": 42,
   "id": "5e526c34",
   "metadata": {},
   "outputs": [
    {
     "data": {
      "text/plain": [
       "list"
      ]
     },
     "execution_count": 42,
     "metadata": {},
     "output_type": "execute_result"
    }
   ],
   "source": [
    "type(ft)"
   ]
  },
  {
   "cell_type": "code",
   "execution_count": 43,
   "id": "2de61b33",
   "metadata": {},
   "outputs": [
    {
     "data": {
      "text/plain": [
       "[2, 3, 100, 5, 4]"
      ]
     },
     "execution_count": 43,
     "metadata": {},
     "output_type": "execute_result"
    }
   ],
   "source": [
    "ft"
   ]
  },
  {
   "cell_type": "code",
   "execution_count": 44,
   "id": "49328243",
   "metadata": {},
   "outputs": [],
   "source": [
    "ft[0] = 100"
   ]
  },
  {
   "cell_type": "code",
   "execution_count": 45,
   "id": "f7dfb968",
   "metadata": {},
   "outputs": [],
   "source": [
    "f = set(ft)"
   ]
  },
  {
   "cell_type": "code",
   "execution_count": 46,
   "id": "2e95868a",
   "metadata": {},
   "outputs": [
    {
     "name": "stdout",
     "output_type": "stream",
     "text": [
      "{4, 3, 100, 5}\n"
     ]
    }
   ],
   "source": [
    "print(f)"
   ]
  },
  {
   "cell_type": "code",
   "execution_count": 47,
   "id": "1323c0f9",
   "metadata": {},
   "outputs": [
    {
     "data": {
      "text/plain": [
       "set"
      ]
     },
     "execution_count": 47,
     "metadata": {},
     "output_type": "execute_result"
    }
   ],
   "source": [
    "type(f)"
   ]
  },
  {
   "cell_type": "code",
   "execution_count": 48,
   "id": "c4276364",
   "metadata": {},
   "outputs": [
    {
     "data": {
      "text/plain": [
       "2808561019584"
      ]
     },
     "execution_count": 48,
     "metadata": {},
     "output_type": "execute_result"
    }
   ],
   "source": [
    "id(f)"
   ]
  },
  {
   "cell_type": "code",
   "execution_count": 49,
   "id": "8dabc83b",
   "metadata": {},
   "outputs": [],
   "source": [
    "s1 = {1,2,3,4,5}"
   ]
  },
  {
   "cell_type": "code",
   "execution_count": 52,
   "id": "c02fc791",
   "metadata": {},
   "outputs": [
    {
     "data": {
      "text/plain": [
       "2808561139776"
      ]
     },
     "execution_count": 52,
     "metadata": {},
     "output_type": "execute_result"
    }
   ],
   "source": [
    "id(s1)"
   ]
  },
  {
   "cell_type": "code",
   "execution_count": 50,
   "id": "4bbe7b33",
   "metadata": {},
   "outputs": [],
   "source": [
    "s1.add(100)"
   ]
  },
  {
   "cell_type": "code",
   "execution_count": 51,
   "id": "ee6fb0e2",
   "metadata": {},
   "outputs": [
    {
     "data": {
      "text/plain": [
       "{1, 2, 3, 4, 5, 100}"
      ]
     },
     "execution_count": 51,
     "metadata": {},
     "output_type": "execute_result"
    }
   ],
   "source": [
    "s1"
   ]
  },
  {
   "cell_type": "code",
   "execution_count": 53,
   "id": "3621fa59",
   "metadata": {},
   "outputs": [
    {
     "data": {
      "text/plain": [
       "2808561139776"
      ]
     },
     "execution_count": 53,
     "metadata": {},
     "output_type": "execute_result"
    }
   ],
   "source": [
    "id(s1)"
   ]
  },
  {
   "cell_type": "code",
   "execution_count": 54,
   "id": "64873e5b",
   "metadata": {},
   "outputs": [],
   "source": [
    "s1.remove(100)"
   ]
  },
  {
   "cell_type": "code",
   "execution_count": 55,
   "id": "6a195cad",
   "metadata": {},
   "outputs": [
    {
     "data": {
      "text/plain": [
       "{1, 2, 3, 4, 5}"
      ]
     },
     "execution_count": 55,
     "metadata": {},
     "output_type": "execute_result"
    }
   ],
   "source": [
    "s1"
   ]
  },
  {
   "cell_type": "code",
   "execution_count": 56,
   "id": "92fea894",
   "metadata": {},
   "outputs": [],
   "source": [
    "s1 = {1,2,3,4,6,8,10}"
   ]
  },
  {
   "cell_type": "code",
   "execution_count": 57,
   "id": "b98f92a1",
   "metadata": {},
   "outputs": [],
   "source": [
    "s2 = {1,5,8,10}"
   ]
  },
  {
   "cell_type": "code",
   "execution_count": 58,
   "id": "cf37ff95",
   "metadata": {},
   "outputs": [
    {
     "data": {
      "text/plain": [
       "{1, 2, 3, 4, 5, 6, 8, 10}"
      ]
     },
     "execution_count": 58,
     "metadata": {},
     "output_type": "execute_result"
    }
   ],
   "source": [
    "s1.union(s2)"
   ]
  },
  {
   "cell_type": "code",
   "execution_count": 59,
   "id": "c023fb66",
   "metadata": {},
   "outputs": [
    {
     "data": {
      "text/plain": [
       "{1, 8, 10}"
      ]
     },
     "execution_count": 59,
     "metadata": {},
     "output_type": "execute_result"
    }
   ],
   "source": [
    "s1.intersection(s2)"
   ]
  },
  {
   "cell_type": "code",
   "execution_count": 60,
   "id": "7873f660",
   "metadata": {},
   "outputs": [
    {
     "data": {
      "text/plain": [
       "{2, 3, 4, 6}"
      ]
     },
     "execution_count": 60,
     "metadata": {},
     "output_type": "execute_result"
    }
   ],
   "source": [
    "s1.difference(s2)"
   ]
  },
  {
   "cell_type": "code",
   "execution_count": 61,
   "id": "49088dad",
   "metadata": {},
   "outputs": [
    {
     "data": {
      "text/plain": [
       "{5}"
      ]
     },
     "execution_count": 61,
     "metadata": {},
     "output_type": "execute_result"
    }
   ],
   "source": [
    "s2.difference(s1)"
   ]
  },
  {
   "cell_type": "code",
   "execution_count": 62,
   "id": "6b5bdde7",
   "metadata": {},
   "outputs": [
    {
     "data": {
      "text/plain": [
       "1"
      ]
     },
     "execution_count": 62,
     "metadata": {},
     "output_type": "execute_result"
    }
   ],
   "source": [
    "s1.pop()"
   ]
  },
  {
   "cell_type": "code",
   "execution_count": 63,
   "id": "cda9c300",
   "metadata": {},
   "outputs": [
    {
     "data": {
      "text/plain": [
       "{2, 3, 4, 6, 8, 10}"
      ]
     },
     "execution_count": 63,
     "metadata": {},
     "output_type": "execute_result"
    }
   ],
   "source": [
    "s1"
   ]
  },
  {
   "cell_type": "code",
   "execution_count": null,
   "id": "451ae691",
   "metadata": {},
   "outputs": [],
   "source": []
  }
 ],
 "metadata": {
  "kernelspec": {
   "display_name": "Python 3 (ipykernel)",
   "language": "python",
   "name": "python3"
  },
  "language_info": {
   "codemirror_mode": {
    "name": "ipython",
    "version": 3
   },
   "file_extension": ".py",
   "mimetype": "text/x-python",
   "name": "python",
   "nbconvert_exporter": "python",
   "pygments_lexer": "ipython3",
   "version": "3.9.13"
  }
 },
 "nbformat": 4,
 "nbformat_minor": 5
}
