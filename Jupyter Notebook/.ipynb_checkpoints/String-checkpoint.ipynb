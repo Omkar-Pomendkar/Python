{
 "cells": [
  {
   "cell_type": "raw",
   "id": "784f416a",
   "metadata": {},
   "source": [
    "# Strings are sequence of Characters\n",
    "\n",
    "In Python specifically, strings are a sequence of Unicode Characters\n",
    "\n",
    "Creating Strings\n",
    "Accessing Strings\n",
    "Adding Chars to Strings\n",
    "Editing Strings\n",
    "Deleting Strings\n",
    "Operations on Strings\n",
    "String Functions"
   ]
  },
  {
   "cell_type": "code",
   "execution_count": 2,
   "id": "d09ad206",
   "metadata": {},
   "outputs": [],
   "source": [
    "a = \"omkar Pomendkar\""
   ]
  },
  {
   "cell_type": "code",
   "execution_count": 5,
   "id": "817aaa41",
   "metadata": {},
   "outputs": [
    {
     "name": "stdout",
     "output_type": "stream",
     "text": [
      "omkar Pomendkar\n"
     ]
    }
   ],
   "source": [
    "print(a)"
   ]
  },
  {
   "cell_type": "code",
   "execution_count": 3,
   "id": "26a581e6",
   "metadata": {},
   "outputs": [],
   "source": [
    "b = \"\"\" It shodn't hapend like that\"\"\""
   ]
  },
  {
   "cell_type": "code",
   "execution_count": 4,
   "id": "b5d1a123",
   "metadata": {},
   "outputs": [
    {
     "name": "stdout",
     "output_type": "stream",
     "text": [
      " It shodn't hapend like that\n"
     ]
    }
   ],
   "source": [
    "print(b)"
   ]
  },
  {
   "cell_type": "markdown",
   "id": "5facb06f",
   "metadata": {},
   "source": [
    "# String\n",
    "Accessing Sub String "
   ]
  },
  {
   "cell_type": "code",
   "execution_count": 7,
   "id": "3f0981e3",
   "metadata": {},
   "outputs": [],
   "source": [
    "s = \"Omkar Pomendkar\""
   ]
  },
  {
   "cell_type": "code",
   "execution_count": 9,
   "id": "49ae23fe",
   "metadata": {},
   "outputs": [
    {
     "data": {
      "text/plain": [
       "'Omkar'"
      ]
     },
     "execution_count": 9,
     "metadata": {},
     "output_type": "execute_result"
    }
   ],
   "source": [
    "s[0:5]"
   ]
  },
  {
   "cell_type": "code",
   "execution_count": 10,
   "id": "082ff29d",
   "metadata": {},
   "outputs": [
    {
     "name": "stdout",
     "output_type": "stream",
     "text": [
      "Omkar Pomendkar\n"
     ]
    }
   ],
   "source": [
    "print(s[:])"
   ]
  },
  {
   "cell_type": "code",
   "execution_count": 11,
   "id": "0c1ec579",
   "metadata": {},
   "outputs": [
    {
     "name": "stdout",
     "output_type": "stream",
     "text": [
      "rakdnemoP rakmO\n"
     ]
    }
   ],
   "source": [
    "print(s[::-1])"
   ]
  },
  {
   "cell_type": "code",
   "execution_count": 12,
   "id": "3ceba60a",
   "metadata": {},
   "outputs": [
    {
     "name": "stdout",
     "output_type": "stream",
     "text": [
      "OkrPm\n"
     ]
    }
   ],
   "source": [
    "print(s[0:10:2])"
   ]
  },
  {
   "cell_type": "markdown",
   "id": "aad6a807",
   "metadata": {},
   "source": [
    "## Editing and Deleting Strings in Python"
   ]
  },
  {
   "cell_type": "code",
   "execution_count": 14,
   "id": "547390d3",
   "metadata": {},
   "outputs": [],
   "source": [
    "a = \"Hello\""
   ]
  },
  {
   "cell_type": "code",
   "execution_count": 15,
   "id": "177ab562",
   "metadata": {},
   "outputs": [
    {
     "ename": "TypeError",
     "evalue": "'str' object does not support item assignment",
     "output_type": "error",
     "traceback": [
      "\u001b[1;31m---------------------------------------------------------------------------\u001b[0m",
      "\u001b[1;31mTypeError\u001b[0m                                 Traceback (most recent call last)",
      "\u001b[1;32mC:\\PROGRA~1\\KMSpico\\temp/ipykernel_16088/3944583634.py\u001b[0m in \u001b[0;36m<module>\u001b[1;34m\u001b[0m\n\u001b[1;32m----> 1\u001b[1;33m \u001b[0ma\u001b[0m\u001b[1;33m[\u001b[0m\u001b[1;36m0\u001b[0m\u001b[1;33m]\u001b[0m \u001b[1;33m=\u001b[0m \u001b[1;34m\"w\"\u001b[0m\u001b[1;33m\u001b[0m\u001b[1;33m\u001b[0m\u001b[0m\n\u001b[0m",
      "\u001b[1;31mTypeError\u001b[0m: 'str' object does not support item assignment"
     ]
    }
   ],
   "source": [
    "a[0] = \"w\""
   ]
  },
  {
   "cell_type": "code",
   "execution_count": 16,
   "id": "33961e1e",
   "metadata": {},
   "outputs": [],
   "source": [
    "# Strings are Immutable"
   ]
  },
  {
   "cell_type": "code",
   "execution_count": 1,
   "id": "9cac573e",
   "metadata": {},
   "outputs": [],
   "source": [
    "## Operation on Strings"
   ]
  },
  {
   "cell_type": "markdown",
   "id": "5fbceba3",
   "metadata": {},
   "source": [
    "Arithematic,Relational,Logical,Loops,Membership Operators"
   ]
  },
  {
   "cell_type": "code",
   "execution_count": 2,
   "id": "0f83d54f",
   "metadata": {},
   "outputs": [
    {
     "data": {
      "text/plain": [
       "'OmkarPomendkar'"
      ]
     },
     "execution_count": 2,
     "metadata": {},
     "output_type": "execute_result"
    }
   ],
   "source": [
    "\"Omkar\"+\"Pomendkar\" # String Concatenation"
   ]
  },
  {
   "cell_type": "code",
   "execution_count": 5,
   "id": "d38a10a1",
   "metadata": {},
   "outputs": [
    {
     "name": "stdout",
     "output_type": "stream",
     "text": [
      "omkaromkaromkaromkaromkaromkaromkar\n"
     ]
    }
   ],
   "source": [
    "print(\"omkar\"*7) # String Multiplication"
   ]
  },
  {
   "cell_type": "code",
   "execution_count": 6,
   "id": "b56f96d1",
   "metadata": {},
   "outputs": [
    {
     "data": {
      "text/plain": [
       "True"
      ]
     },
     "execution_count": 6,
     "metadata": {},
     "output_type": "execute_result"
    }
   ],
   "source": [
    "\"omkar\" > \"Pomendkar\""
   ]
  },
  {
   "cell_type": "code",
   "execution_count": 7,
   "id": "76a234e9",
   "metadata": {},
   "outputs": [
    {
     "data": {
      "text/plain": [
       "True"
      ]
     },
     "execution_count": 7,
     "metadata": {},
     "output_type": "execute_result"
    }
   ],
   "source": [
    "\"omkar\" > \"OMKAR\""
   ]
  },
  {
   "cell_type": "code",
   "execution_count": 8,
   "id": "79827b64",
   "metadata": {},
   "outputs": [
    {
     "name": "stdout",
     "output_type": "stream",
     "text": [
      "world\n"
     ]
    }
   ],
   "source": [
    "# Logical Operations\n",
    "print(\"hello\" and \"world\")"
   ]
  },
  {
   "cell_type": "code",
   "execution_count": 9,
   "id": "45581bba",
   "metadata": {},
   "outputs": [],
   "source": [
    "# Empty String in python is False"
   ]
  },
  {
   "cell_type": "code",
   "execution_count": 10,
   "id": "0940b811",
   "metadata": {},
   "outputs": [
    {
     "data": {
      "text/plain": [
       "''"
      ]
     },
     "execution_count": 10,
     "metadata": {},
     "output_type": "execute_result"
    }
   ],
   "source": [
    "\"\" and \"omkar\""
   ]
  },
  {
   "cell_type": "code",
   "execution_count": 11,
   "id": "71c7ea68",
   "metadata": {},
   "outputs": [
    {
     "data": {
      "text/plain": [
       "'omkar'"
      ]
     },
     "execution_count": 11,
     "metadata": {},
     "output_type": "execute_result"
    }
   ],
   "source": [
    "\"\" or \"omkar\""
   ]
  },
  {
   "cell_type": "code",
   "execution_count": 12,
   "id": "7c6dbc4f",
   "metadata": {},
   "outputs": [
    {
     "data": {
      "text/plain": [
       "'OMkar'"
      ]
     },
     "execution_count": 12,
     "metadata": {},
     "output_type": "execute_result"
    }
   ],
   "source": [
    "\"Omkar\" and \"OMkar\""
   ]
  },
  {
   "cell_type": "code",
   "execution_count": 14,
   "id": "883fc667",
   "metadata": {},
   "outputs": [
    {
     "name": "stdout",
     "output_type": "stream",
     "text": [
      "k\n",
      "a\n",
      "r\n",
      " \n"
     ]
    }
   ],
   "source": [
    "#Loops in String\n",
    "a = \"Omkar Pomendkar\"\n",
    "for i in a[2:6]:\n",
    "    print(i)"
   ]
  },
  {
   "cell_type": "code",
   "execution_count": 15,
   "id": "52c93008",
   "metadata": {},
   "outputs": [
    {
     "name": "stdout",
     "output_type": "stream",
     "text": [
      "False\n"
     ]
    }
   ],
   "source": [
    "# Membership Operator\n",
    "d = \"Omkar Pomendkar\"\n",
    "print(\"omkar\" in d)"
   ]
  },
  {
   "cell_type": "markdown",
   "id": "ca639065",
   "metadata": {},
   "source": [
    "## String Functions"
   ]
  },
  {
   "cell_type": "markdown",
   "id": "810a9059",
   "metadata": {},
   "source": [
    "### Common Function "
   ]
  },
  {
   "cell_type": "markdown",
   "id": "041f848e",
   "metadata": {},
   "source": [
    "### len,min,max,sorted"
   ]
  },
  {
   "cell_type": "code",
   "execution_count": 18,
   "id": "c4b541c8",
   "metadata": {},
   "outputs": [
    {
     "data": {
      "text/plain": [
       "16"
      ]
     },
     "execution_count": 18,
     "metadata": {},
     "output_type": "execute_result"
    }
   ],
   "source": [
    "o = \"omkar POmeendkar\"\n",
    "len(o)"
   ]
  },
  {
   "cell_type": "code",
   "execution_count": 19,
   "id": "7d3a544c",
   "metadata": {},
   "outputs": [
    {
     "data": {
      "text/plain": [
       "' '"
      ]
     },
     "execution_count": 19,
     "metadata": {},
     "output_type": "execute_result"
    }
   ],
   "source": [
    "min(o)"
   ]
  },
  {
   "cell_type": "code",
   "execution_count": 20,
   "id": "67b1f207",
   "metadata": {},
   "outputs": [
    {
     "data": {
      "text/plain": [
       "'r'"
      ]
     },
     "execution_count": 20,
     "metadata": {},
     "output_type": "execute_result"
    }
   ],
   "source": [
    "max(o)"
   ]
  },
  {
   "cell_type": "code",
   "execution_count": 22,
   "id": "15c285fd",
   "metadata": {},
   "outputs": [
    {
     "data": {
      "text/plain": [
       "[8, 7, 6, 5, 4, 3, 2, 1]"
      ]
     },
     "execution_count": 22,
     "metadata": {},
     "output_type": "execute_result"
    }
   ],
   "source": [
    "o = [1,2,3,4,5,6,7,8]\n",
    "sorted(o, reverse = True)"
   ]
  },
  {
   "cell_type": "markdown",
   "id": "08be68e2",
   "metadata": {},
   "source": [
    "## 1. Capitalize/Upper/Lower/Title/Swap"
   ]
  },
  {
   "cell_type": "code",
   "execution_count": 24,
   "id": "e44a26c9",
   "metadata": {},
   "outputs": [
    {
     "data": {
      "text/plain": [
       "'Omkar'"
      ]
     },
     "execution_count": 24,
     "metadata": {},
     "output_type": "execute_result"
    }
   ],
   "source": [
    "o = \"omkar\"\n",
    "o.capitalize()"
   ]
  },
  {
   "cell_type": "code",
   "execution_count": 25,
   "id": "03712080",
   "metadata": {},
   "outputs": [
    {
     "data": {
      "text/plain": [
       "'OMKAR'"
      ]
     },
     "execution_count": 25,
     "metadata": {},
     "output_type": "execute_result"
    }
   ],
   "source": [
    "o.upper()"
   ]
  },
  {
   "cell_type": "code",
   "execution_count": 29,
   "id": "1d9b5d4b",
   "metadata": {},
   "outputs": [
    {
     "data": {
      "text/plain": [
       "'omkar'"
      ]
     },
     "execution_count": 29,
     "metadata": {},
     "output_type": "execute_result"
    }
   ],
   "source": [
    "o.lower()"
   ]
  },
  {
   "cell_type": "code",
   "execution_count": 30,
   "id": "a1a8ec3d",
   "metadata": {},
   "outputs": [
    {
     "data": {
      "text/plain": [
       "'Omkar'"
      ]
     },
     "execution_count": 30,
     "metadata": {},
     "output_type": "execute_result"
    }
   ],
   "source": [
    "d = \"omkar\"\n",
    "d.title()"
   ]
  },
  {
   "cell_type": "code",
   "execution_count": 32,
   "id": "69d925c4",
   "metadata": {},
   "outputs": [
    {
     "data": {
      "text/plain": [
       "'OMKAR'"
      ]
     },
     "execution_count": 32,
     "metadata": {},
     "output_type": "execute_result"
    }
   ],
   "source": [
    "d.swapcase()"
   ]
  },
  {
   "cell_type": "code",
   "execution_count": 37,
   "id": "1394dbaf",
   "metadata": {},
   "outputs": [
    {
     "data": {
      "text/plain": [
       "3"
      ]
     },
     "execution_count": 37,
     "metadata": {},
     "output_type": "execute_result"
    }
   ],
   "source": [
    "\"omkaromkaromkar\".count(\"a\")"
   ]
  },
  {
   "cell_type": "markdown",
   "id": "3141aefa",
   "metadata": {},
   "source": [
    "## 2.Find/Index/"
   ]
  },
  {
   "cell_type": "code",
   "execution_count": 38,
   "id": "0fbf12c3",
   "metadata": {},
   "outputs": [
    {
     "data": {
      "text/plain": [
       "6"
      ]
     },
     "execution_count": 38,
     "metadata": {},
     "output_type": "execute_result"
    }
   ],
   "source": [
    "\"It is a Awesome Day\".find(\"a\") # returns -1 if no item is found"
   ]
  },
  {
   "cell_type": "code",
   "execution_count": 41,
   "id": "02b3094c",
   "metadata": {},
   "outputs": [
    {
     "data": {
      "text/plain": [
       "6"
      ]
     },
     "execution_count": 41,
     "metadata": {},
     "output_type": "execute_result"
    }
   ],
   "source": [
    "\"It is a Awesome Day\".index(\"a\") # return Error if no item is found"
   ]
  },
  {
   "cell_type": "code",
   "execution_count": 42,
   "id": "73efa160",
   "metadata": {},
   "outputs": [
    {
     "data": {
      "text/plain": [
       "True"
      ]
     },
     "execution_count": 42,
     "metadata": {},
     "output_type": "execute_result"
    }
   ],
   "source": [
    "\"omkar\".startswith(\"o\")"
   ]
  },
  {
   "cell_type": "code",
   "execution_count": 43,
   "id": "3a860a77",
   "metadata": {},
   "outputs": [
    {
     "data": {
      "text/plain": [
       "False"
      ]
     },
     "execution_count": 43,
     "metadata": {},
     "output_type": "execute_result"
    }
   ],
   "source": [
    "\"omkar\".endswith(\"o\")"
   ]
  },
  {
   "cell_type": "markdown",
   "id": "2ee6e092",
   "metadata": {},
   "source": [
    "### 3)  Format"
   ]
  },
  {
   "cell_type": "code",
   "execution_count": 44,
   "id": "689caadf",
   "metadata": {},
   "outputs": [
    {
     "data": {
      "text/plain": [
       "'Hello my name is Omkar Sanjay Pomendkar'"
      ]
     },
     "execution_count": 44,
     "metadata": {},
     "output_type": "execute_result"
    }
   ],
   "source": [
    "\"Hello my name is {} {} {}\".format(\"Omkar\",\"Sanjay\",\"Pomendkar\")"
   ]
  },
  {
   "cell_type": "code",
   "execution_count": 48,
   "id": "1d488ede",
   "metadata": {},
   "outputs": [
    {
     "data": {
      "text/plain": [
       "'Hello my name is Pomendkar Omkar Sanjay'"
      ]
     },
     "execution_count": 48,
     "metadata": {},
     "output_type": "execute_result"
    }
   ],
   "source": [
    "\"Hello my name is {2} {0} {1}\".format(\"Omkar\",\"Sanjay\",\"Pomendkar\")"
   ]
  },
  {
   "cell_type": "markdown",
   "id": "83536e79",
   "metadata": {},
   "source": [
    "## 4) isalpha,isdecimal,isalnum,isdigit,isidentifer"
   ]
  },
  {
   "cell_type": "code",
   "execution_count": 52,
   "id": "f12eb9ae",
   "metadata": {},
   "outputs": [
    {
     "data": {
      "text/plain": [
       "False"
      ]
     },
     "execution_count": 52,
     "metadata": {},
     "output_type": "execute_result"
    }
   ],
   "source": [
    "\"Omkar\".isdigit()"
   ]
  },
  {
   "cell_type": "code",
   "execution_count": 54,
   "id": "6a7df930",
   "metadata": {},
   "outputs": [
    {
     "data": {
      "text/plain": [
       "True"
      ]
     },
     "execution_count": 54,
     "metadata": {},
     "output_type": "execute_result"
    }
   ],
   "source": [
    "\"12345\".isalnum()"
   ]
  },
  {
   "cell_type": "markdown",
   "id": "b7a9e17b",
   "metadata": {},
   "source": [
    "## 5) Split "
   ]
  },
  {
   "cell_type": "code",
   "execution_count": 55,
   "id": "c9b7a1c5",
   "metadata": {},
   "outputs": [
    {
     "data": {
      "text/plain": [
       "['I', 'love', 'to', 'code', 'in', 'Game']"
      ]
     },
     "execution_count": 55,
     "metadata": {},
     "output_type": "execute_result"
    }
   ],
   "source": [
    "\"I love to code in Game\".split()"
   ]
  },
  {
   "cell_type": "code",
   "execution_count": 56,
   "id": "1fc1e5e4",
   "metadata": {},
   "outputs": [
    {
     "ename": "NameError",
     "evalue": "name 'split' is not defined",
     "output_type": "error",
     "traceback": [
      "\u001b[1;31m---------------------------------------------------------------------------\u001b[0m",
      "\u001b[1;31mNameError\u001b[0m                                 Traceback (most recent call last)",
      "\u001b[1;32mC:\\PROGRA~1\\KMSpico\\temp/ipykernel_9840/2893766958.py\u001b[0m in \u001b[0;36m<module>\u001b[1;34m\u001b[0m\n\u001b[1;32m----> 1\u001b[1;33m \u001b[0msplit\u001b[0m\u001b[1;33m(\u001b[0m\u001b[1;33m)\u001b[0m\u001b[1;33m\u001b[0m\u001b[1;33m\u001b[0m\u001b[0m\n\u001b[0m",
      "\u001b[1;31mNameError\u001b[0m: name 'split' is not defined"
     ]
    }
   ],
   "source": []
  },
  {
   "cell_type": "code",
   "execution_count": 57,
   "id": "5dbc1d3d",
   "metadata": {},
   "outputs": [],
   "source": [
    "## 6) Join"
   ]
  },
  {
   "cell_type": "code",
   "execution_count": 60,
   "id": "4dcb030a",
   "metadata": {},
   "outputs": [
    {
     "data": {
      "text/plain": [
       "'Somkar Pomendkara'"
      ]
     },
     "execution_count": 60,
     "metadata": {},
     "output_type": "execute_result"
    }
   ],
   "source": [
    "\"omkar Pomendkar\".join(\"Sa\")"
   ]
  },
  {
   "cell_type": "code",
   "execution_count": 62,
   "id": "0473b02f",
   "metadata": {},
   "outputs": [],
   "source": [
    "## 7) Replace"
   ]
  },
  {
   "cell_type": "code",
   "execution_count": 70,
   "id": "c4a09332",
   "metadata": {},
   "outputs": [
    {
     "data": {
      "text/plain": [
       "'Sa Pomendkar'"
      ]
     },
     "execution_count": 70,
     "metadata": {},
     "output_type": "execute_result"
    }
   ],
   "source": [
    "\"Omkar Pomendkar\".replace(\"Omkar\",\"Sa\")"
   ]
  },
  {
   "cell_type": "code",
   "execution_count": 71,
   "id": "c73724ad",
   "metadata": {},
   "outputs": [
    {
     "data": {
      "text/plain": [
       "<function str.replace(old, new, count=-1, /)>"
      ]
     },
     "execution_count": 71,
     "metadata": {},
     "output_type": "execute_result"
    }
   ],
   "source": [
    "d.replace"
   ]
  },
  {
   "cell_type": "code",
   "execution_count": 72,
   "id": "d1dcd26f",
   "metadata": {},
   "outputs": [],
   "source": [
    "# Strip "
   ]
  },
  {
   "cell_type": "code",
   "execution_count": 73,
   "id": "aa97ca9b",
   "metadata": {},
   "outputs": [
    {
     "data": {
      "text/plain": [
       "'omkar'"
      ]
     },
     "execution_count": 73,
     "metadata": {},
     "output_type": "execute_result"
    }
   ],
   "source": [
    "\"       omkar         \".strip()"
   ]
  },
  {
   "cell_type": "code",
   "execution_count": null,
   "id": "3f174d58",
   "metadata": {},
   "outputs": [],
   "source": []
  }
 ],
 "metadata": {
  "kernelspec": {
   "display_name": "Python 3 (ipykernel)",
   "language": "python",
   "name": "python3"
  },
  "language_info": {
   "codemirror_mode": {
    "name": "ipython",
    "version": 3
   },
   "file_extension": ".py",
   "mimetype": "text/x-python",
   "name": "python",
   "nbconvert_exporter": "python",
   "pygments_lexer": "ipython3",
   "version": "3.9.7"
  }
 },
 "nbformat": 4,
 "nbformat_minor": 5
}
