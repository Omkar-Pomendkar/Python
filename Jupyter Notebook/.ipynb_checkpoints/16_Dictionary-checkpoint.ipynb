{
 "cells": [
  {
   "cell_type": "code",
   "execution_count": 1,
   "id": "26e51fb6",
   "metadata": {},
   "outputs": [],
   "source": [
    "d = { 1 : \"One\",\n",
    "    2 : \"two\",\n",
    "    3 : \"Three\",\n",
    "    4 : \"Four\"}"
   ]
  },
  {
   "cell_type": "code",
   "execution_count": 2,
   "id": "a35a02b4",
   "metadata": {},
   "outputs": [
    {
     "data": {
      "text/plain": [
       "{1: 'One', 2: 'two', 3: 'Three', 4: 'Four'}"
      ]
     },
     "execution_count": 2,
     "metadata": {},
     "output_type": "execute_result"
    }
   ],
   "source": [
    "d"
   ]
  },
  {
   "cell_type": "code",
   "execution_count": 3,
   "id": "7926ee67",
   "metadata": {},
   "outputs": [],
   "source": [
    "# Dictionary has no Indexing\n",
    "# Dictionaty is a mutable types\n",
    "# Keys - Immutable , Values -> they can be Mutable\n",
    "# Keys Should be Mutable"
   ]
  },
  {
   "cell_type": "code",
   "execution_count": 4,
   "id": "a6527e5c",
   "metadata": {},
   "outputs": [],
   "source": [
    "# Mutable -> List/Sets/Dictionary\n",
    "# Immutable -> Strings/Tuple/int/float/Boolean/Complex"
   ]
  },
  {
   "cell_type": "code",
   "execution_count": 5,
   "id": "be1b600b",
   "metadata": {},
   "outputs": [
    {
     "data": {
      "text/plain": [
       "dict_items([(1, 'One'), (2, 'two'), (3, 'Three'), (4, 'Four')])"
      ]
     },
     "execution_count": 5,
     "metadata": {},
     "output_type": "execute_result"
    }
   ],
   "source": [
    "d.items()"
   ]
  },
  {
   "cell_type": "code",
   "execution_count": 6,
   "id": "a0780be8",
   "metadata": {},
   "outputs": [
    {
     "data": {
      "text/plain": [
       "dict_keys([1, 2, 3, 4])"
      ]
     },
     "execution_count": 6,
     "metadata": {},
     "output_type": "execute_result"
    }
   ],
   "source": [
    "d.keys()"
   ]
  },
  {
   "cell_type": "code",
   "execution_count": 7,
   "id": "5c504199",
   "metadata": {},
   "outputs": [
    {
     "data": {
      "text/plain": [
       "dict_values(['One', 'two', 'Three', 'Four'])"
      ]
     },
     "execution_count": 7,
     "metadata": {},
     "output_type": "execute_result"
    }
   ],
   "source": [
    "d.values()"
   ]
  },
  {
   "cell_type": "code",
   "execution_count": 16,
   "id": "8df6aa65",
   "metadata": {},
   "outputs": [],
   "source": [
    "d1 = {\"omkar\":\"pomendkar\",1:\"One\",2:\"Two\",\"marks\":{\"maths\": 98,\"English\":56}}\n"
   ]
  },
  {
   "cell_type": "code",
   "execution_count": 17,
   "id": "52e94cb1",
   "metadata": {},
   "outputs": [
    {
     "data": {
      "text/plain": [
       "{'maths': 98, 'English': 56}"
      ]
     },
     "execution_count": 17,
     "metadata": {},
     "output_type": "execute_result"
    }
   ],
   "source": [
    "d1[\"marks\"]"
   ]
  },
  {
   "cell_type": "code",
   "execution_count": 19,
   "id": "0694c11a",
   "metadata": {},
   "outputs": [
    {
     "data": {
      "text/plain": [
       "98"
      ]
     },
     "execution_count": 19,
     "metadata": {},
     "output_type": "execute_result"
    }
   ],
   "source": [
    "d1[\"marks\"][\"maths\"]"
   ]
  },
  {
   "cell_type": "code",
   "execution_count": null,
   "id": "cafcc710",
   "metadata": {},
   "outputs": [],
   "source": []
  }
 ],
 "metadata": {
  "kernelspec": {
   "display_name": "Python 3 (ipykernel)",
   "language": "python",
   "name": "python3"
  },
  "language_info": {
   "codemirror_mode": {
    "name": "ipython",
    "version": 3
   },
   "file_extension": ".py",
   "mimetype": "text/x-python",
   "name": "python",
   "nbconvert_exporter": "python",
   "pygments_lexer": "ipython3",
   "version": "3.9.13"
  }
 },
 "nbformat": 4,
 "nbformat_minor": 5
}
