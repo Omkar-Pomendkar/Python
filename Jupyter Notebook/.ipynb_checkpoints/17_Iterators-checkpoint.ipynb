{
 "cells": [
  {
   "cell_type": "markdown",
   "id": "6be92fb6",
   "metadata": {},
   "source": [
    "## What is Iteration"
   ]
  },
  {
   "cell_type": "markdown",
   "id": "a80fb6d0",
   "metadata": {},
   "source": [
    "Iteration is a general term for taking eah item of something , one after another . Anytime you see a loop , Explicit  or implicit go over a group of items ,thatits iteration"
   ]
  },
  {
   "cell_type": "code",
   "execution_count": 6,
   "id": "6682308b",
   "metadata": {},
   "outputs": [
    {
     "name": "stdout",
     "output_type": "stream",
     "text": [
      "O\n",
      "m\n",
      "k\n",
      "a\n",
      "r\n"
     ]
    }
   ],
   "source": [
    "# Example\n",
    "s = \"Omkar\"\n",
    "for i in s:\n",
    "    print(i)"
   ]
  },
  {
   "cell_type": "markdown",
   "id": "f2c93d3c",
   "metadata": {},
   "source": [
    "## What is Iterator"
   ]
  },
  {
   "cell_type": "markdown",
   "id": "40437adc",
   "metadata": {},
   "source": [
    "An iterator is an object that allows the programmer to traverse through a sequence of data without having to store the entire data in the memory"
   ]
  },
  {
   "cell_type": "code",
   "execution_count": 13,
   "id": "8b872206",
   "metadata": {},
   "outputs": [
    {
     "name": "stdout",
     "output_type": "stream",
     "text": [
      "782.2109375\n",
      "0.046875\n"
     ]
    }
   ],
   "source": [
    "# Iterator is the thing which allows Iteration Possible\n",
    "# Example\n",
    "l = [x for x in range(1,100000)]\n",
    "\n",
    "# for i in l:\n",
    "#     print(i*2)\n",
    "\n",
    "import sys\n",
    "\n",
    "print(sys.getsizeof(l)/1024)\n",
    "\n",
    "#x = range(1,100000)\n",
    "\n",
    "# for i in x:\n",
    "#     print(i*2)\n",
    "    \n",
    "    \n",
    "    \n",
    "print(sys.getsizeof(x)/1024)"
   ]
  },
  {
   "cell_type": "markdown",
   "id": "0e7c7924",
   "metadata": {},
   "source": [
    "## What is Iterable"
   ]
  },
  {
   "cell_type": "markdown",
   "id": "8fe91d06",
   "metadata": {},
   "source": [
    "Iterable is an object, which one can iterate over "
   ]
  },
  {
   "cell_type": "markdown",
   "id": "da362101",
   "metadata": {},
   "source": [
    "It generates an Iterator when passed to iter() method"
   ]
  },
  {
   "cell_type": "markdown",
   "id": "9aa5f25e",
   "metadata": {},
   "source": [
    " Iterable is an object in python on which we can iterate over it"
   ]
  },
  {
   "cell_type": "markdown",
   "id": "c3d24be4",
   "metadata": {},
   "source": [
    "On whichever object we can run loop that object is iterable"
   ]
  },
  {
   "cell_type": "code",
   "execution_count": 23,
   "id": "ca5ff685",
   "metadata": {},
   "outputs": [
    {
     "data": {
      "text/plain": [
       "list_iterator"
      ]
     },
     "execution_count": 23,
     "metadata": {},
     "output_type": "execute_result"
    }
   ],
   "source": [
    "l = [1,2,3]\n",
    "type(l)\n",
    "# L is iterable\n",
    "type (iter(l))  #---> Iterator"
   ]
  },
  {
   "cell_type": "markdown",
   "id": "1e289274",
   "metadata": {},
   "source": [
    "# Points to Remember"
   ]
  },
  {
   "cell_type": "raw",
   "id": "f20e8913",
   "metadata": {},
   "source": [
    "Not all Iterables are Iterators\n",
    "Eg :- List are Iterables but not Iterators\n",
    "Every Iterator is also Iterable"
   ]
  },
  {
   "cell_type": "markdown",
   "id": "69ceee8c",
   "metadata": {},
   "source": [
    "## Trick How to know which is Iterable and Iterator"
   ]
  },
  {
   "cell_type": "raw",
   "id": "07511adb",
   "metadata": {},
   "source": [
    "Every Iterable has an iter Function\n",
    "Every Iterator has both iter function as well as next fuction"
   ]
  },
  {
   "cell_type": "code",
   "execution_count": 25,
   "id": "ff8b0277",
   "metadata": {},
   "outputs": [
    {
     "ename": "TypeError",
     "evalue": "'int' object is not iterable",
     "output_type": "error",
     "traceback": [
      "\u001b[1;31m---------------------------------------------------------------------------\u001b[0m",
      "\u001b[1;31mTypeError\u001b[0m                                 Traceback (most recent call last)",
      "\u001b[1;32m~\\AppData\\Local\\Temp\\ipykernel_103576\\2609214861.py\u001b[0m in \u001b[0;36m<module>\u001b[1;34m\u001b[0m\n\u001b[0;32m      1\u001b[0m \u001b[1;31m# To check whether it is iterable or Not\u001b[0m\u001b[1;33m\u001b[0m\u001b[1;33m\u001b[0m\u001b[0m\n\u001b[0;32m      2\u001b[0m \u001b[0ma\u001b[0m \u001b[1;33m=\u001b[0m \u001b[1;36m23\u001b[0m\u001b[1;33m\u001b[0m\u001b[1;33m\u001b[0m\u001b[0m\n\u001b[1;32m----> 3\u001b[1;33m \u001b[1;32mfor\u001b[0m \u001b[0mi\u001b[0m \u001b[1;32min\u001b[0m \u001b[0ma\u001b[0m\u001b[1;33m:\u001b[0m\u001b[1;33m\u001b[0m\u001b[1;33m\u001b[0m\u001b[0m\n\u001b[0m\u001b[0;32m      4\u001b[0m     \u001b[0mprint\u001b[0m\u001b[1;33m(\u001b[0m\u001b[0mi\u001b[0m\u001b[1;33m)\u001b[0m\u001b[1;33m\u001b[0m\u001b[1;33m\u001b[0m\u001b[0m\n",
      "\u001b[1;31mTypeError\u001b[0m: 'int' object is not iterable"
     ]
    }
   ],
   "source": [
    "# To check whether it is iterable or Not make use of Iter Function\n",
    "a = 23\n",
    "for i in a:\n",
    "    print(i)"
   ]
  },
  {
   "cell_type": "code",
   "execution_count": 27,
   "id": "e5f7574d",
   "metadata": {},
   "outputs": [
    {
     "data": {
      "text/plain": [
       "['__abs__',\n",
       " '__add__',\n",
       " '__and__',\n",
       " '__bool__',\n",
       " '__ceil__',\n",
       " '__class__',\n",
       " '__delattr__',\n",
       " '__dir__',\n",
       " '__divmod__',\n",
       " '__doc__',\n",
       " '__eq__',\n",
       " '__float__',\n",
       " '__floor__',\n",
       " '__floordiv__',\n",
       " '__format__',\n",
       " '__ge__',\n",
       " '__getattribute__',\n",
       " '__getnewargs__',\n",
       " '__gt__',\n",
       " '__hash__',\n",
       " '__index__',\n",
       " '__init__',\n",
       " '__init_subclass__',\n",
       " '__int__',\n",
       " '__invert__',\n",
       " '__le__',\n",
       " '__lshift__',\n",
       " '__lt__',\n",
       " '__mod__',\n",
       " '__mul__',\n",
       " '__ne__',\n",
       " '__neg__',\n",
       " '__new__',\n",
       " '__or__',\n",
       " '__pos__',\n",
       " '__pow__',\n",
       " '__radd__',\n",
       " '__rand__',\n",
       " '__rdivmod__',\n",
       " '__reduce__',\n",
       " '__reduce_ex__',\n",
       " '__repr__',\n",
       " '__rfloordiv__',\n",
       " '__rlshift__',\n",
       " '__rmod__',\n",
       " '__rmul__',\n",
       " '__ror__',\n",
       " '__round__',\n",
       " '__rpow__',\n",
       " '__rrshift__',\n",
       " '__rshift__',\n",
       " '__rsub__',\n",
       " '__rtruediv__',\n",
       " '__rxor__',\n",
       " '__setattr__',\n",
       " '__sizeof__',\n",
       " '__str__',\n",
       " '__sub__',\n",
       " '__subclasshook__',\n",
       " '__truediv__',\n",
       " '__trunc__',\n",
       " '__xor__',\n",
       " 'as_integer_ratio',\n",
       " 'bit_length',\n",
       " 'conjugate',\n",
       " 'denominator',\n",
       " 'from_bytes',\n",
       " 'imag',\n",
       " 'numerator',\n",
       " 'real',\n",
       " 'to_bytes']"
      ]
     },
     "execution_count": 27,
     "metadata": {},
     "output_type": "execute_result"
    }
   ],
   "source": [
    "dir(a)"
   ]
  },
  {
   "cell_type": "code",
   "execution_count": 28,
   "id": "a31547ad",
   "metadata": {},
   "outputs": [],
   "source": [
    "l = [1,2,3]\n",
    "# Over Here l is not iterator it is iterable\n",
    "# But, when you make use of iter function you can generate iter function of the same to know that we have to se dir function contains next and iter methods or not\n",
    "dir(iter(l))\n",
    "iter_L = iter(l)\n",
    "# Over here l is Iterator Now"
   ]
  },
  {
   "cell_type": "code",
   "execution_count": 29,
   "id": "ac3e825a",
   "metadata": {},
   "outputs": [
    {
     "data": {
      "text/plain": [
       "['__add__',\n",
       " '__class__',\n",
       " '__class_getitem__',\n",
       " '__contains__',\n",
       " '__delattr__',\n",
       " '__delitem__',\n",
       " '__dir__',\n",
       " '__doc__',\n",
       " '__eq__',\n",
       " '__format__',\n",
       " '__ge__',\n",
       " '__getattribute__',\n",
       " '__getitem__',\n",
       " '__gt__',\n",
       " '__hash__',\n",
       " '__iadd__',\n",
       " '__imul__',\n",
       " '__init__',\n",
       " '__init_subclass__',\n",
       " '__iter__',\n",
       " '__le__',\n",
       " '__len__',\n",
       " '__lt__',\n",
       " '__mul__',\n",
       " '__ne__',\n",
       " '__new__',\n",
       " '__reduce__',\n",
       " '__reduce_ex__',\n",
       " '__repr__',\n",
       " '__reversed__',\n",
       " '__rmul__',\n",
       " '__setattr__',\n",
       " '__setitem__',\n",
       " '__sizeof__',\n",
       " '__str__',\n",
       " '__subclasshook__',\n",
       " 'append',\n",
       " 'clear',\n",
       " 'copy',\n",
       " 'count',\n",
       " 'extend',\n",
       " 'index',\n",
       " 'insert',\n",
       " 'pop',\n",
       " 'remove',\n",
       " 'reverse',\n",
       " 'sort']"
      ]
     },
     "execution_count": 29,
     "metadata": {},
     "output_type": "execute_result"
    }
   ],
   "source": [
    "dir(l)"
   ]
  },
  {
   "cell_type": "code",
   "execution_count": 31,
   "id": "e2747669",
   "metadata": {},
   "outputs": [],
   "source": [
    "# To Check whether the Object is Iterator is Not\n",
    "# Make use of Dir function and check if u can see next and iter function all 2 Functions then they are iter function "
   ]
  },
  {
   "cell_type": "markdown",
   "id": "b5bfe6dc",
   "metadata": {},
   "source": [
    "## Understanding how for loops Work"
   ]
  },
  {
   "cell_type": "code",
   "execution_count": 32,
   "id": "a0c709de",
   "metadata": {},
   "outputs": [
    {
     "name": "stdout",
     "output_type": "stream",
     "text": [
      "1\n",
      "2\n",
      "3\n",
      "4\n",
      "5\n"
     ]
    }
   ],
   "source": [
    "num = [1,2,3,4,5]\n",
    "\n",
    "for i in num:\n",
    "    print(i)"
   ]
  },
  {
   "cell_type": "code",
   "execution_count": 37,
   "id": "d00b2cc8",
   "metadata": {},
   "outputs": [
    {
     "ename": "StopIteration",
     "evalue": "",
     "output_type": "error",
     "traceback": [
      "\u001b[1;31m---------------------------------------------------------------------------\u001b[0m",
      "\u001b[1;31mStopIteration\u001b[0m                             Traceback (most recent call last)",
      "\u001b[1;32m~\\AppData\\Local\\Temp\\ipykernel_103576\\2794210352.py\u001b[0m in \u001b[0;36m<module>\u001b[1;34m\u001b[0m\n\u001b[0;32m      8\u001b[0m \u001b[0mnext\u001b[0m\u001b[1;33m(\u001b[0m\u001b[0miter_num\u001b[0m\u001b[1;33m)\u001b[0m\u001b[1;33m\u001b[0m\u001b[1;33m\u001b[0m\u001b[0m\n\u001b[0;32m      9\u001b[0m \u001b[0mnext\u001b[0m\u001b[1;33m(\u001b[0m\u001b[0miter_num\u001b[0m\u001b[1;33m)\u001b[0m\u001b[1;33m\u001b[0m\u001b[1;33m\u001b[0m\u001b[0m\n\u001b[1;32m---> 10\u001b[1;33m \u001b[0mnext\u001b[0m\u001b[1;33m(\u001b[0m\u001b[0miter_num\u001b[0m\u001b[1;33m)\u001b[0m\u001b[1;33m\u001b[0m\u001b[1;33m\u001b[0m\u001b[0m\n\u001b[0m",
      "\u001b[1;31mStopIteration\u001b[0m: "
     ]
    }
   ],
   "source": [
    "num = [1,2,3]\n",
    "\n",
    "#fetch the iterator \n",
    "iter_num = iter(num)\n",
    "\n",
    "# step2 - > next\n",
    "next(iter_num)\n",
    "next(iter_num)\n",
    "next(iter_num)\n",
    "next(iter_num)\n"
   ]
  },
  {
   "cell_type": "code",
   "execution_count": null,
   "id": "96cce265",
   "metadata": {},
   "outputs": [],
   "source": []
  }
 ],
 "metadata": {
  "kernelspec": {
   "display_name": "Python 3 (ipykernel)",
   "language": "python",
   "name": "python3"
  },
  "language_info": {
   "codemirror_mode": {
    "name": "ipython",
    "version": 3
   },
   "file_extension": ".py",
   "mimetype": "text/x-python",
   "name": "python",
   "nbconvert_exporter": "python",
   "pygments_lexer": "ipython3",
   "version": "3.9.7"
  }
 },
 "nbformat": 4,
 "nbformat_minor": 5
}
