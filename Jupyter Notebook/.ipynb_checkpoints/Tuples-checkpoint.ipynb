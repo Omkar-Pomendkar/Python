{
 "cells": [
  {
   "cell_type": "markdown",
   "id": "750610b6",
   "metadata": {},
   "source": [
    "# Tuples"
   ]
  },
  {
   "cell_type": "code",
   "execution_count": 1,
   "id": "0fe0ccd0",
   "metadata": {},
   "outputs": [],
   "source": [
    "# Create , Access , Add , Delete , Edit , Operations , Functions"
   ]
  },
  {
   "cell_type": "code",
   "execution_count": 2,
   "id": "9e5f343e",
   "metadata": {},
   "outputs": [],
   "source": [
    "t = ()"
   ]
  },
  {
   "cell_type": "code",
   "execution_count": 3,
   "id": "1d1d62fa",
   "metadata": {},
   "outputs": [
    {
     "data": {
      "text/plain": [
       "tuple"
      ]
     },
     "execution_count": 3,
     "metadata": {},
     "output_type": "execute_result"
    }
   ],
   "source": [
    "type(t)"
   ]
  },
  {
   "cell_type": "code",
   "execution_count": 4,
   "id": "7df622a9",
   "metadata": {},
   "outputs": [],
   "source": [
    "t = (1,2,3,4,5)"
   ]
  },
  {
   "cell_type": "code",
   "execution_count": 5,
   "id": "5c45b4fc",
   "metadata": {},
   "outputs": [],
   "source": [
    "ht = (\"OMkar\",34,56.6)"
   ]
  },
  {
   "cell_type": "code",
   "execution_count": 6,
   "id": "d9c37f2e",
   "metadata": {},
   "outputs": [
    {
     "data": {
      "text/plain": [
       "('OMkar', 34, 56.6)"
      ]
     },
     "execution_count": 6,
     "metadata": {},
     "output_type": "execute_result"
    }
   ],
   "source": [
    "ht"
   ]
  },
  {
   "cell_type": "code",
   "execution_count": 7,
   "id": "30295f90",
   "metadata": {},
   "outputs": [],
   "source": [
    "t = (1,2,(3,4))"
   ]
  },
  {
   "cell_type": "code",
   "execution_count": 8,
   "id": "b523ca52",
   "metadata": {},
   "outputs": [],
   "source": [
    "t = (8)"
   ]
  },
  {
   "cell_type": "code",
   "execution_count": 9,
   "id": "7f09521d",
   "metadata": {},
   "outputs": [
    {
     "data": {
      "text/plain": [
       "int"
      ]
     },
     "execution_count": 9,
     "metadata": {},
     "output_type": "execute_result"
    }
   ],
   "source": [
    "type(t)"
   ]
  },
  {
   "cell_type": "code",
   "execution_count": 10,
   "id": "256c0b32",
   "metadata": {},
   "outputs": [],
   "source": [
    "t = (5,)"
   ]
  },
  {
   "cell_type": "code",
   "execution_count": 11,
   "id": "1ba635ba",
   "metadata": {},
   "outputs": [
    {
     "data": {
      "text/plain": [
       "tuple"
      ]
     },
     "execution_count": 11,
     "metadata": {},
     "output_type": "execute_result"
    }
   ],
   "source": [
    "type(t)"
   ]
  },
  {
   "cell_type": "code",
   "execution_count": 12,
   "id": "2d0dc928",
   "metadata": {},
   "outputs": [],
   "source": [
    "l = (1,2,3,4)"
   ]
  },
  {
   "cell_type": "code",
   "execution_count": 13,
   "id": "4159304d",
   "metadata": {},
   "outputs": [
    {
     "ename": "TypeError",
     "evalue": "'tuple' object does not support item assignment",
     "output_type": "error",
     "traceback": [
      "\u001b[1;31m---------------------------------------------------------------------------\u001b[0m",
      "\u001b[1;31mTypeError\u001b[0m                                 Traceback (most recent call last)",
      "\u001b[1;32mC:\\PROGRA~1\\KMSpico\\temp/ipykernel_832/4194994272.py\u001b[0m in \u001b[0;36m<module>\u001b[1;34m\u001b[0m\n\u001b[1;32m----> 1\u001b[1;33m \u001b[0ml\u001b[0m\u001b[1;33m[\u001b[0m\u001b[1;36m0\u001b[0m\u001b[1;33m]\u001b[0m \u001b[1;33m=\u001b[0m\u001b[1;36m100\u001b[0m\u001b[1;33m\u001b[0m\u001b[1;33m\u001b[0m\u001b[0m\n\u001b[0m",
      "\u001b[1;31mTypeError\u001b[0m: 'tuple' object does not support item assignment"
     ]
    }
   ],
   "source": [
    "l[0] =100"
   ]
  },
  {
   "cell_type": "code",
   "execution_count": 14,
   "id": "25b3a618",
   "metadata": {},
   "outputs": [],
   "source": [
    "#tuples and Strings are immutable"
   ]
  },
  {
   "cell_type": "code",
   "execution_count": 15,
   "id": "21191833",
   "metadata": {},
   "outputs": [],
   "source": [
    "# Deleting tuple"
   ]
  },
  {
   "cell_type": "code",
   "execution_count": 16,
   "id": "25f91fc2",
   "metadata": {},
   "outputs": [],
   "source": [
    "del t"
   ]
  },
  {
   "cell_type": "code",
   "execution_count": 18,
   "id": "fb2025f1",
   "metadata": {},
   "outputs": [
    {
     "ename": "SyntaxError",
     "evalue": "cannot delete operator (temp/ipykernel_832/440066368.py, line 1)",
     "output_type": "error",
     "traceback": [
      "\u001b[1;36m  File \u001b[1;32m\"C:\\PROGRA~1\\KMSpico\\temp/ipykernel_832/440066368.py\"\u001b[1;36m, line \u001b[1;32m1\u001b[0m\n\u001b[1;33m    del ht-1\u001b[0m\n\u001b[1;37m        ^\u001b[0m\n\u001b[1;31mSyntaxError\u001b[0m\u001b[1;31m:\u001b[0m cannot delete operator\n"
     ]
    }
   ],
   "source": [
    "del ht-1"
   ]
  },
  {
   "cell_type": "code",
   "execution_count": 23,
   "id": "c77a1b1d",
   "metadata": {},
   "outputs": [],
   "source": [
    "# tuples are read only Datattypes"
   ]
  },
  {
   "cell_type": "code",
   "execution_count": null,
   "id": "637917b3",
   "metadata": {},
   "outputs": [],
   "source": []
  }
 ],
 "metadata": {
  "kernelspec": {
   "display_name": "Python 3 (ipykernel)",
   "language": "python",
   "name": "python3"
  },
  "language_info": {
   "codemirror_mode": {
    "name": "ipython",
    "version": 3
   },
   "file_extension": ".py",
   "mimetype": "text/x-python",
   "name": "python",
   "nbconvert_exporter": "python",
   "pygments_lexer": "ipython3",
   "version": "3.9.7"
  }
 },
 "nbformat": 4,
 "nbformat_minor": 5
}
