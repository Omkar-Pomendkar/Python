{
 "cells": [
  {
   "cell_type": "code",
   "execution_count": 1,
   "id": "4b548b2a",
   "metadata": {},
   "outputs": [],
   "source": [
    "# List"
   ]
  },
  {
   "cell_type": "markdown",
   "id": "e0c2548c",
   "metadata": {},
   "source": [
    "### What is List\n",
    "List vs Array\n",
    "Create\n",
    "Access \n",
    "Edit\n",
    "Delete\n",
    "Add\n",
    "Operations\n",
    "Functions\n",
    "\n"
   ]
  },
  {
   "cell_type": "markdown",
   "id": "e43ecbba",
   "metadata": {},
   "source": [
    "Arrays are Homogeneus and List are Hetrogenous\n",
    "Arrays are Faster and list are Slower\n",
    "List are more program friendly"
   ]
  },
  {
   "cell_type": "code",
   "execution_count": 4,
   "id": "bde7e569",
   "metadata": {},
   "outputs": [],
   "source": [
    "l = [] # Empty List"
   ]
  },
  {
   "cell_type": "code",
   "execution_count": 5,
   "id": "f1cf1e81",
   "metadata": {},
   "outputs": [],
   "source": [
    "l1 = [1,2,3,4,5] # Homogeneous List"
   ]
  },
  {
   "cell_type": "code",
   "execution_count": 6,
   "id": "e40d2b6b",
   "metadata": {},
   "outputs": [],
   "source": [
    "l2 = [\"omkar\" ,1,2,4.5]  # Hetrogenous List\n"
   ]
  },
  {
   "cell_type": "code",
   "execution_count": 7,
   "id": "1b99abe7",
   "metadata": {},
   "outputs": [],
   "source": [
    "l3 = [1,2,3,4,[5,6]]  # Multidimensional List  2 D List"
   ]
  },
  {
   "cell_type": "code",
   "execution_count": 8,
   "id": "8d52c7aa",
   "metadata": {},
   "outputs": [],
   "source": [
    "l5 = list('Omkar Pomendkar')"
   ]
  },
  {
   "cell_type": "code",
   "execution_count": 9,
   "id": "106d3620",
   "metadata": {},
   "outputs": [
    {
     "data": {
      "text/plain": [
       "['O', 'm', 'k', 'a', 'r', ' ', 'P', 'o', 'm', 'e', 'n', 'd', 'k', 'a', 'r']"
      ]
     },
     "execution_count": 9,
     "metadata": {},
     "output_type": "execute_result"
    }
   ],
   "source": [
    "l5"
   ]
  },
  {
   "cell_type": "code",
   "execution_count": 36,
   "id": "f08563ee",
   "metadata": {},
   "outputs": [],
   "source": [
    "l = [1,2,3,4,5,6]"
   ]
  },
  {
   "cell_type": "code",
   "execution_count": 37,
   "id": "fa686f1f",
   "metadata": {},
   "outputs": [
    {
     "data": {
      "text/plain": [
       "2"
      ]
     },
     "execution_count": 37,
     "metadata": {},
     "output_type": "execute_result"
    }
   ],
   "source": [
    "l[1]"
   ]
  },
  {
   "cell_type": "code",
   "execution_count": 38,
   "id": "85b27c56",
   "metadata": {},
   "outputs": [
    {
     "data": {
      "text/plain": [
       "[3, 4]"
      ]
     },
     "execution_count": 38,
     "metadata": {},
     "output_type": "execute_result"
    }
   ],
   "source": [
    "l[2:4]"
   ]
  },
  {
   "cell_type": "code",
   "execution_count": 39,
   "id": "14cf4c8e",
   "metadata": {},
   "outputs": [],
   "source": [
    "l6 = [1,2,3,4,[10,20,30]]"
   ]
  },
  {
   "cell_type": "code",
   "execution_count": 40,
   "id": "884e8be1",
   "metadata": {},
   "outputs": [
    {
     "data": {
      "text/plain": [
       "10"
      ]
     },
     "execution_count": 40,
     "metadata": {},
     "output_type": "execute_result"
    }
   ],
   "source": [
    "l6[4][0]"
   ]
  },
  {
   "cell_type": "code",
   "execution_count": 41,
   "id": "390b3f04",
   "metadata": {},
   "outputs": [],
   "source": [
    "l7 = [1,2,3,5,5]"
   ]
  },
  {
   "cell_type": "code",
   "execution_count": 42,
   "id": "c972f0db",
   "metadata": {},
   "outputs": [],
   "source": [
    "l7[0] = 100"
   ]
  },
  {
   "cell_type": "code",
   "execution_count": 43,
   "id": "07299d36",
   "metadata": {},
   "outputs": [
    {
     "data": {
      "text/plain": [
       "[100, 2, 3, 5, 5]"
      ]
     },
     "execution_count": 43,
     "metadata": {},
     "output_type": "execute_result"
    }
   ],
   "source": [
    "l7 # List in Python are Mutable"
   ]
  },
  {
   "cell_type": "code",
   "execution_count": 44,
   "id": "6444470b",
   "metadata": {},
   "outputs": [],
   "source": [
    "l7.append(1000)"
   ]
  },
  {
   "cell_type": "code",
   "execution_count": 45,
   "id": "673d9ee0",
   "metadata": {},
   "outputs": [
    {
     "data": {
      "text/plain": [
       "[100, 2, 3, 5, 5, 1000]"
      ]
     },
     "execution_count": 45,
     "metadata": {},
     "output_type": "execute_result"
    }
   ],
   "source": [
    "l7"
   ]
  },
  {
   "cell_type": "code",
   "execution_count": 46,
   "id": "680bde66",
   "metadata": {},
   "outputs": [],
   "source": [
    "l7.extend([45,56,66,6])"
   ]
  },
  {
   "cell_type": "code",
   "execution_count": 49,
   "id": "9b655da1",
   "metadata": {},
   "outputs": [],
   "source": [
    "l7.insert(4,56)"
   ]
  },
  {
   "cell_type": "code",
   "execution_count": 50,
   "id": "9d3b1bfa",
   "metadata": {},
   "outputs": [
    {
     "name": "stdout",
     "output_type": "stream",
     "text": [
      "[100, 2, 3, 5, 56, 5, 1000, 45, 56, 66, 6]\n"
     ]
    }
   ],
   "source": [
    "print(l7)"
   ]
  },
  {
   "cell_type": "code",
   "execution_count": null,
   "id": "caf3a018",
   "metadata": {},
   "outputs": [],
   "source": [
    "# Removing Items from List"
   ]
  },
  {
   "cell_type": "code",
   "execution_count": 1,
   "id": "21379dea",
   "metadata": {},
   "outputs": [],
   "source": [
    "# Delete del,remove,pop,clear\n"
   ]
  },
  {
   "cell_type": "code",
   "execution_count": 3,
   "id": "e1bf08fd",
   "metadata": {},
   "outputs": [],
   "source": [
    "l = [1,2,3,4,5,6]\n",
    "l2 = [12,23,4,5,67]"
   ]
  },
  {
   "cell_type": "code",
   "execution_count": 4,
   "id": "cc0881da",
   "metadata": {},
   "outputs": [],
   "source": [
    "del l2"
   ]
  },
  {
   "cell_type": "code",
   "execution_count": 5,
   "id": "1f7635da",
   "metadata": {},
   "outputs": [
    {
     "ename": "NameError",
     "evalue": "name 'l2' is not defined",
     "output_type": "error",
     "traceback": [
      "\u001b[1;31m---------------------------------------------------------------------------\u001b[0m",
      "\u001b[1;31mNameError\u001b[0m                                 Traceback (most recent call last)",
      "\u001b[1;32mC:\\PROGRA~1\\KMSpico\\temp/ipykernel_4640/2371406284.py\u001b[0m in \u001b[0;36m<module>\u001b[1;34m\u001b[0m\n\u001b[1;32m----> 1\u001b[1;33m \u001b[0ml2\u001b[0m\u001b[1;33m\u001b[0m\u001b[1;33m\u001b[0m\u001b[0m\n\u001b[0m",
      "\u001b[1;31mNameError\u001b[0m: name 'l2' is not defined"
     ]
    }
   ],
   "source": [
    "l2"
   ]
  },
  {
   "cell_type": "code",
   "execution_count": 8,
   "id": "22a38572",
   "metadata": {},
   "outputs": [],
   "source": [
    "del l[0]"
   ]
  },
  {
   "cell_type": "code",
   "execution_count": 9,
   "id": "741857b9",
   "metadata": {},
   "outputs": [
    {
     "data": {
      "text/plain": [
       "[2, 3, 4, 5, 6]"
      ]
     },
     "execution_count": 9,
     "metadata": {},
     "output_type": "execute_result"
    }
   ],
   "source": [
    "l"
   ]
  },
  {
   "cell_type": "code",
   "execution_count": 10,
   "id": "829d69c0",
   "metadata": {},
   "outputs": [],
   "source": [
    "l.remove(3)"
   ]
  },
  {
   "cell_type": "code",
   "execution_count": 11,
   "id": "0bf76150",
   "metadata": {},
   "outputs": [],
   "source": [
    "l.reverse()"
   ]
  },
  {
   "cell_type": "code",
   "execution_count": 12,
   "id": "9019f0fb",
   "metadata": {},
   "outputs": [
    {
     "data": {
      "text/plain": [
       "[6, 5, 4, 2]"
      ]
     },
     "execution_count": 12,
     "metadata": {},
     "output_type": "execute_result"
    }
   ],
   "source": [
    "l"
   ]
  },
  {
   "cell_type": "code",
   "execution_count": 15,
   "id": "f80ac1e3",
   "metadata": {},
   "outputs": [
    {
     "data": {
      "text/plain": [
       "4"
      ]
     },
     "execution_count": 15,
     "metadata": {},
     "output_type": "execute_result"
    }
   ],
   "source": [
    "l.pop(2)"
   ]
  },
  {
   "cell_type": "code",
   "execution_count": 16,
   "id": "56c311a7",
   "metadata": {},
   "outputs": [],
   "source": [
    "l.clear()"
   ]
  },
  {
   "cell_type": "code",
   "execution_count": 17,
   "id": "ab0b7466",
   "metadata": {},
   "outputs": [],
   "source": [
    "l3 = [34,6,7,4,4,4]"
   ]
  },
  {
   "cell_type": "code",
   "execution_count": 18,
   "id": "3e0ce6e8",
   "metadata": {},
   "outputs": [
    {
     "data": {
      "text/plain": [
       "4"
      ]
     },
     "execution_count": 18,
     "metadata": {},
     "output_type": "execute_result"
    }
   ],
   "source": [
    "l3.pop()"
   ]
  },
  {
   "cell_type": "code",
   "execution_count": 22,
   "id": "ee362943",
   "metadata": {},
   "outputs": [],
   "source": [
    "a = [1,3,5,7,9]\n",
    "b = [2,4,6,8,10]"
   ]
  },
  {
   "cell_type": "code",
   "execution_count": 23,
   "id": "20964f5a",
   "metadata": {},
   "outputs": [
    {
     "data": {
      "text/plain": [
       "[1, 3, 5, 7, 9, 2, 4, 6, 8, 10]"
      ]
     },
     "execution_count": 23,
     "metadata": {},
     "output_type": "execute_result"
    }
   ],
   "source": [
    "a+b"
   ]
  },
  {
   "cell_type": "code",
   "execution_count": 25,
   "id": "df9fd1d5",
   "metadata": {},
   "outputs": [
    {
     "name": "stdout",
     "output_type": "stream",
     "text": [
      "1\n",
      "3\n",
      "5\n",
      "7\n",
      "9\n"
     ]
    }
   ],
   "source": [
    "for i in a:\n",
    "    print(i)"
   ]
  },
  {
   "cell_type": "code",
   "execution_count": 27,
   "id": "a52f1cf6",
   "metadata": {},
   "outputs": [],
   "source": [
    "b = [1,2,3,4,[5,6]]"
   ]
  },
  {
   "cell_type": "code",
   "execution_count": 28,
   "id": "2ce4b6fd",
   "metadata": {},
   "outputs": [
    {
     "name": "stdout",
     "output_type": "stream",
     "text": [
      "1\n",
      "2\n",
      "3\n",
      "4\n",
      "[5, 6]\n"
     ]
    }
   ],
   "source": [
    "for i in b:\n",
    "    print(i)"
   ]
  },
  {
   "cell_type": "code",
   "execution_count": 29,
   "id": "2d387a8e",
   "metadata": {},
   "outputs": [
    {
     "data": {
      "text/plain": [
       "True"
      ]
     },
     "execution_count": 29,
     "metadata": {},
     "output_type": "execute_result"
    }
   ],
   "source": [
    "4 in b"
   ]
  },
  {
   "cell_type": "code",
   "execution_count": 30,
   "id": "5d2434ba",
   "metadata": {},
   "outputs": [
    {
     "data": {
      "text/plain": [
       "True"
      ]
     },
     "execution_count": 30,
     "metadata": {},
     "output_type": "execute_result"
    }
   ],
   "source": [
    "[5,6] in b"
   ]
  },
  {
   "cell_type": "code",
   "execution_count": 32,
   "id": "2dbc51fd",
   "metadata": {},
   "outputs": [
    {
     "data": {
      "text/plain": [
       "1"
      ]
     },
     "execution_count": 32,
     "metadata": {},
     "output_type": "execute_result"
    }
   ],
   "source": [
    "min(a)"
   ]
  },
  {
   "cell_type": "code",
   "execution_count": 33,
   "id": "f60adba2",
   "metadata": {},
   "outputs": [
    {
     "data": {
      "text/plain": [
       "9"
      ]
     },
     "execution_count": 33,
     "metadata": {},
     "output_type": "execute_result"
    }
   ],
   "source": [
    "max(a)"
   ]
  },
  {
   "cell_type": "code",
   "execution_count": 35,
   "id": "ea5dc695",
   "metadata": {},
   "outputs": [],
   "source": [
    "# sorted(a.reverse=\"True\")"
   ]
  },
  {
   "cell_type": "code",
   "execution_count": 40,
   "id": "86b71364",
   "metadata": {},
   "outputs": [],
   "source": [
    "d = \"hello my nam is omkar\""
   ]
  },
  {
   "cell_type": "code",
   "execution_count": 49,
   "id": "82c652b0",
   "metadata": {},
   "outputs": [
    {
     "name": "stdout",
     "output_type": "stream",
     "text": [
      "['hello', 'my', 'nam', 'is', 'omkar']\n",
      "['Hello', 'My', 'Nam', 'Is', 'Omkar']\n"
     ]
    }
   ],
   "source": [
    "\n",
    "print(d.split())\n",
    "l = []\n",
    "for i in d.split():\n",
    "    #print(i.capitalize())\n",
    "    l.append(i.capitalize())\n",
    "print(l)"
   ]
  },
  {
   "cell_type": "code",
   "execution_count": 52,
   "id": "d9b964bb",
   "metadata": {},
   "outputs": [],
   "source": [
    "d = \"omkarpomendkar100@gmail.com\""
   ]
  },
  {
   "cell_type": "code",
   "execution_count": 54,
   "id": "8aab4525",
   "metadata": {},
   "outputs": [
    {
     "data": {
      "text/plain": [
       "['omkarpomendkar100', 'gmail.com']"
      ]
     },
     "execution_count": 54,
     "metadata": {},
     "output_type": "execute_result"
    }
   ],
   "source": [
    "d.rsplit(sep=\"@\")"
   ]
  },
  {
   "cell_type": "code",
   "execution_count": 57,
   "id": "1480f426",
   "metadata": {},
   "outputs": [
    {
     "name": "stdout",
     "output_type": "stream",
     "text": [
      "[1, 2, 3, 4, 5, 6]\n"
     ]
    }
   ],
   "source": [
    "L = [1,2,3,4,4,4,5,5,6]\n",
    "l = [1,2,3,4,5]\n",
    "\n",
    "d = []\n",
    "for i in L:\n",
    "    if i not in d:\n",
    "        d.append(i)\n",
    "print(d)"
   ]
  },
  {
   "cell_type": "code",
   "execution_count": null,
   "id": "140e5770",
   "metadata": {},
   "outputs": [],
   "source": []
  }
 ],
 "metadata": {
  "kernelspec": {
   "display_name": "Python 3 (ipykernel)",
   "language": "python",
   "name": "python3"
  },
  "language_info": {
   "codemirror_mode": {
    "name": "ipython",
    "version": 3
   },
   "file_extension": ".py",
   "mimetype": "text/x-python",
   "name": "python",
   "nbconvert_exporter": "python",
   "pygments_lexer": "ipython3",
   "version": "3.9.7"
  }
 },
 "nbformat": 4,
 "nbformat_minor": 5
}
