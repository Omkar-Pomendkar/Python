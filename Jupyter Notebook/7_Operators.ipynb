{
 "cells": [
  {
   "cell_type": "markdown",
   "id": "a13eefa2",
   "metadata": {},
   "source": [
    "# Operators\n",
    "### Operators are used to perform variable and Values\n"
   ]
  },
  {
   "cell_type": "raw",
   "id": "98d96d05",
   "metadata": {},
   "source": [
    ". Arithematic operators (+,-,/,*,//,**)\n",
    ". Comparison operators (< ,> <= ,>=, == ,!=)\n",
    ". Logical Operators (and , or ,not)\n",
    ". Boolean Operators (True and False)\n",
    ". Bitwise Operators  (&,|,>>,<<,~)\n",
    ". Assingment Operators ( = , == )\n",
    ". Membership Operators (in , not in)\n",
    ".Identity  Operators (is)"
   ]
  },
  {
   "cell_type": "code",
   "execution_count": 2,
   "id": "e2ea32ee",
   "metadata": {},
   "outputs": [],
   "source": [
    "a = 10\n",
    "b = 20"
   ]
  },
  {
   "cell_type": "markdown",
   "id": "a27f9769",
   "metadata": {},
   "source": [
    "## 1.Assingment Operator"
   ]
  },
  {
   "cell_type": "code",
   "execution_count": 6,
   "id": "23ef3baa",
   "metadata": {},
   "outputs": [
    {
     "name": "stdout",
     "output_type": "stream",
     "text": [
      "30\n",
      "-10\n",
      "200\n",
      "100000000000000000000\n",
      "0.5\n",
      "0\n"
     ]
    }
   ],
   "source": [
    "print(a+b)\n",
    "print(a-b)\n",
    "print(a*b)\n",
    "print(a**b)\n",
    "print(a/b)\n",
    "print(a//b)"
   ]
  },
  {
   "cell_type": "markdown",
   "id": "c73a7df7",
   "metadata": {},
   "source": [
    "## 2.Comparison Operators >=,<=,>,<,!= ,=="
   ]
  },
  {
   "cell_type": "code",
   "execution_count": 7,
   "id": "14c8e66c",
   "metadata": {},
   "outputs": [
    {
     "name": "stdout",
     "output_type": "stream",
     "text": [
      "False\n"
     ]
    }
   ],
   "source": [
    "print(a>b)"
   ]
  },
  {
   "cell_type": "code",
   "execution_count": 8,
   "id": "6f3ec1c6",
   "metadata": {},
   "outputs": [
    {
     "name": "stdout",
     "output_type": "stream",
     "text": [
      "True\n"
     ]
    }
   ],
   "source": [
    "print(b>a)"
   ]
  },
  {
   "cell_type": "code",
   "execution_count": 9,
   "id": "78c9098c",
   "metadata": {},
   "outputs": [
    {
     "name": "stdout",
     "output_type": "stream",
     "text": [
      "20\n"
     ]
    }
   ],
   "source": [
    "if a>b:\n",
    "    print(a)\n",
    "else:\n",
    "    print(b)"
   ]
  },
  {
   "cell_type": "code",
   "execution_count": 10,
   "id": "9f6c76da",
   "metadata": {},
   "outputs": [
    {
     "name": "stdout",
     "output_type": "stream",
     "text": [
      "10\n"
     ]
    }
   ],
   "source": [
    "if a<b:\n",
    "    print(a)\n",
    "else:\n",
    "    print(b)"
   ]
  },
  {
   "cell_type": "markdown",
   "id": "af58d85a",
   "metadata": {},
   "source": [
    "## 3.Logical Operators (and,or,not)"
   ]
  },
  {
   "cell_type": "code",
   "execution_count": 2,
   "id": "bb8c7f6f",
   "metadata": {},
   "outputs": [
    {
     "name": "stdout",
     "output_type": "stream",
     "text": [
      "False\n",
      "True\n",
      "True\n"
     ]
    }
   ],
   "source": [
    "x = True\n",
    "y = False \n",
    "print(x and y)\n",
    "print(x or y)\n",
    "print(not y)"
   ]
  },
  {
   "cell_type": "markdown",
   "id": "7d595d50",
   "metadata": {},
   "source": [
    "## 4.Bitwise Operators (&,|,>>,<<,~)"
   ]
  },
  {
   "cell_type": "code",
   "execution_count": 10,
   "id": "cc2a93c7",
   "metadata": {},
   "outputs": [
    {
     "name": "stdout",
     "output_type": "stream",
     "text": [
      "2\n"
     ]
    }
   ],
   "source": [
    "x = 2\n",
    "y = 30\n",
    "\n",
    "print(x & y)"
   ]
  },
  {
   "cell_type": "code",
   "execution_count": 11,
   "id": "a43483b5",
   "metadata": {},
   "outputs": [
    {
     "name": "stdout",
     "output_type": "stream",
     "text": [
      "30\n"
     ]
    }
   ],
   "source": [
    "print(x | y)"
   ]
  },
  {
   "cell_type": "code",
   "execution_count": 12,
   "id": "5c37b5c4",
   "metadata": {},
   "outputs": [
    {
     "name": "stdout",
     "output_type": "stream",
     "text": [
      "7\n"
     ]
    }
   ],
   "source": [
    "print(y >> 2)"
   ]
  },
  {
   "cell_type": "code",
   "execution_count": 13,
   "id": "4b803e06",
   "metadata": {},
   "outputs": [
    {
     "name": "stdout",
     "output_type": "stream",
     "text": [
      "8\n"
     ]
    }
   ],
   "source": [
    "print(x << 2)"
   ]
  },
  {
   "cell_type": "code",
   "execution_count": 16,
   "id": "06fa1456",
   "metadata": {},
   "outputs": [
    {
     "name": "stdout",
     "output_type": "stream",
     "text": [
      "-3\n"
     ]
    }
   ],
   "source": [
    "print(~x)"
   ]
  },
  {
   "cell_type": "markdown",
   "id": "da147eef",
   "metadata": {},
   "source": [
    "\n",
    "## 4. Assignment Operators"
   ]
  },
  {
   "cell_type": "code",
   "execution_count": 26,
   "id": "60655b7a",
   "metadata": {},
   "outputs": [],
   "source": [
    "a = 10"
   ]
  },
  {
   "cell_type": "code",
   "execution_count": 27,
   "id": "6c9eb963",
   "metadata": {},
   "outputs": [
    {
     "name": "stdout",
     "output_type": "stream",
     "text": [
      "10\n"
     ]
    }
   ],
   "source": [
    "print(a)"
   ]
  },
  {
   "cell_type": "code",
   "execution_count": 28,
   "id": "784c0585",
   "metadata": {},
   "outputs": [],
   "source": [
    "a += 10"
   ]
  },
  {
   "cell_type": "code",
   "execution_count": 29,
   "id": "9a1c99bd",
   "metadata": {},
   "outputs": [
    {
     "name": "stdout",
     "output_type": "stream",
     "text": [
      "20\n"
     ]
    }
   ],
   "source": [
    "print(a)"
   ]
  },
  {
   "cell_type": "code",
   "execution_count": 30,
   "id": "bb32325e",
   "metadata": {},
   "outputs": [
    {
     "name": "stdout",
     "output_type": "stream",
     "text": [
      "10\n"
     ]
    }
   ],
   "source": [
    "a -= 10\n",
    "print(a)"
   ]
  },
  {
   "cell_type": "code",
   "execution_count": 31,
   "id": "6913fb43",
   "metadata": {},
   "outputs": [
    {
     "name": "stdout",
     "output_type": "stream",
     "text": [
      "200\n"
     ]
    }
   ],
   "source": [
    "a *=20\n",
    "print(a)"
   ]
  },
  {
   "cell_type": "markdown",
   "id": "c02ffee2",
   "metadata": {},
   "source": [
    "## 5. Identity Operators"
   ]
  },
  {
   "cell_type": "code",
   "execution_count": 32,
   "id": "e68256c0",
   "metadata": {},
   "outputs": [
    {
     "name": "stdout",
     "output_type": "stream",
     "text": [
      "True\n"
     ]
    }
   ],
   "source": [
    "a = 89\n",
    "b = 89\n",
    "\n",
    "print(a is b)"
   ]
  },
  {
   "cell_type": "code",
   "execution_count": 33,
   "id": "e92cf4c8",
   "metadata": {},
   "outputs": [
    {
     "name": "stdout",
     "output_type": "stream",
     "text": [
      "False\n"
     ]
    }
   ],
   "source": [
    "a = 90\n",
    "b = \"Omkar\"\n",
    "print(a is b)"
   ]
  },
  {
   "cell_type": "code",
   "execution_count": 34,
   "id": "08a4ab44",
   "metadata": {},
   "outputs": [],
   "source": [
    "## 6.Membership Operator"
   ]
  },
  {
   "cell_type": "code",
   "execution_count": 35,
   "id": "bea5b58f",
   "metadata": {},
   "outputs": [
    {
     "name": "stdout",
     "output_type": "stream",
     "text": [
      "True\n"
     ]
    }
   ],
   "source": [
    "x = \"delhi\"\n",
    "print(\"d\" in x)"
   ]
  },
  {
   "cell_type": "code",
   "execution_count": 36,
   "id": "5a62ab2e",
   "metadata": {},
   "outputs": [
    {
     "name": "stdout",
     "output_type": "stream",
     "text": [
      "False\n"
     ]
    }
   ],
   "source": [
    "print(\"d\" not in x)"
   ]
  },
  {
   "cell_type": "code",
   "execution_count": null,
   "id": "0af62199",
   "metadata": {},
   "outputs": [],
   "source": []
  }
 ],
 "metadata": {
  "kernelspec": {
   "display_name": "Python 3 (ipykernel)",
   "language": "python",
   "name": "python3"
  },
  "language_info": {
   "codemirror_mode": {
    "name": "ipython",
    "version": 3
   },
   "file_extension": ".py",
   "mimetype": "text/x-python",
   "name": "python",
   "nbconvert_exporter": "python",
   "pygments_lexer": "ipython3",
   "version": "3.9.13"
  }
 },
 "nbformat": 4,
 "nbformat_minor": 5
}
