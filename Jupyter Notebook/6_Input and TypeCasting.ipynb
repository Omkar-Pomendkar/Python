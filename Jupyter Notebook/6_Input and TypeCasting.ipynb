{
 "cells": [
  {
   "cell_type": "code",
   "execution_count": 1,
   "id": "d5db3c88",
   "metadata": {},
   "outputs": [
    {
     "name": "stdout",
     "output_type": "stream",
     "text": [
      "6565\n"
     ]
    },
    {
     "data": {
      "text/plain": [
       "'6565'"
      ]
     },
     "execution_count": 1,
     "metadata": {},
     "output_type": "execute_result"
    }
   ],
   "source": [
    "input()"
   ]
  },
  {
   "cell_type": "code",
   "execution_count": 2,
   "id": "a597a98e",
   "metadata": {},
   "outputs": [
    {
     "name": "stdout",
     "output_type": "stream",
     "text": [
      "Enter your namee\n"
     ]
    },
    {
     "data": {
      "text/plain": [
       "'e'"
      ]
     },
     "execution_count": 2,
     "metadata": {},
     "output_type": "execute_result"
    }
   ],
   "source": [
    "input(\"Enter your name\")"
   ]
  },
  {
   "cell_type": "code",
   "execution_count": 4,
   "id": "16bf896e",
   "metadata": {},
   "outputs": [
    {
     "name": "stdout",
     "output_type": "stream",
     "text": [
      "Enter Number156\n",
      "Enter Number156\n",
      "Result is  112\n"
     ]
    }
   ],
   "source": [
    "a = int(input(\"Enter Number1\"))\n",
    "b = int(input(\"Enter Number1\"))\n",
    "c = a+b\n",
    "print(\"Result is \",c)"
   ]
  },
  {
   "cell_type": "code",
   "execution_count": 5,
   "id": "37eac57f",
   "metadata": {},
   "outputs": [
    {
     "name": "stdout",
     "output_type": "stream",
     "text": [
      "56\n",
      "<class 'int'>\n"
     ]
    }
   ],
   "source": [
    "# Type Conversion\n",
    "\n",
    "s = \"56\"\n",
    "d = int(s)\n",
    "print(d)\n",
    "print(type(d))"
   ]
  },
  {
   "cell_type": "code",
   "execution_count": 1,
   "id": "a1d64b50",
   "metadata": {},
   "outputs": [],
   "source": [
    "# Implicit - Python automatically converts it\n",
    "# Explicit - Programmer have to do it\n"
   ]
  },
  {
   "cell_type": "code",
   "execution_count": 2,
   "id": "a6c348de",
   "metadata": {},
   "outputs": [
    {
     "name": "stdout",
     "output_type": "stream",
     "text": [
      "\\ A B C \n"
     ]
    }
   ],
   "source": [
    "print('''\\ A B C ''')"
   ]
  },
  {
   "cell_type": "code",
   "execution_count": null,
   "id": "b1820def",
   "metadata": {},
   "outputs": [],
   "source": []
  }
 ],
 "metadata": {
  "kernelspec": {
   "display_name": "Python 3 (ipykernel)",
   "language": "python",
   "name": "python3"
  },
  "language_info": {
   "codemirror_mode": {
    "name": "ipython",
    "version": 3
   },
   "file_extension": ".py",
   "mimetype": "text/x-python",
   "name": "python",
   "nbconvert_exporter": "python",
   "pygments_lexer": "ipython3",
   "version": "3.9.13"
  }
 },
 "nbformat": 4,
 "nbformat_minor": 5
}
