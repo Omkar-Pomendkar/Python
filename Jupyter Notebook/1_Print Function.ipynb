{
 "cells": [
  {
   "cell_type": "code",
   "execution_count": 1,
   "id": "ecffb046",
   "metadata": {},
   "outputs": [
    {
     "name": "stdout",
     "output_type": "stream",
     "text": [
      "Hello World\n"
     ]
    }
   ],
   "source": [
    "# How Print Function Works\n",
    "# Prints a Number , String , Boolean Values\n",
    "print(\"Hello World\")\n"
   ]
  },
  {
   "cell_type": "code",
   "execution_count": null,
   "id": "176775e3",
   "metadata": {},
   "outputs": [],
   "source": []
  },
  {
   "cell_type": "code",
   "execution_count": 2,
   "id": "4b1180eb",
   "metadata": {},
   "outputs": [
    {
     "name": "stdout",
     "output_type": "stream",
     "text": [
      "43234\n"
     ]
    }
   ],
   "source": [
    "print(43234)"
   ]
  },
  {
   "cell_type": "code",
   "execution_count": 3,
   "id": "d3093330",
   "metadata": {},
   "outputs": [
    {
     "name": "stdout",
     "output_type": "stream",
     "text": [
      "32443.42323\n"
     ]
    }
   ],
   "source": [
    "print(32443.42323)"
   ]
  },
  {
   "cell_type": "code",
   "execution_count": 4,
   "id": "2f3f00e3",
   "metadata": {},
   "outputs": [
    {
     "name": "stdout",
     "output_type": "stream",
     "text": [
      "True\n"
     ]
    }
   ],
   "source": [
    "print(True)"
   ]
  },
  {
   "cell_type": "code",
   "execution_count": 5,
   "id": "0bcaba12",
   "metadata": {},
   "outputs": [
    {
     "name": "stdout",
     "output_type": "stream",
     "text": [
      "India Afghanistan Nepal Australia\n"
     ]
    }
   ],
   "source": [
    "print(\"India\",\"Afghanistan\",\"Nepal\",\"Australia\")"
   ]
  },
  {
   "cell_type": "code",
   "execution_count": 6,
   "id": "29352fd8",
   "metadata": {},
   "outputs": [
    {
     "name": "stdout",
     "output_type": "stream",
     "text": [
      "2 Omkar 56.6\n"
     ]
    }
   ],
   "source": [
    "print(2,\"Omkar\",56.6)"
   ]
  },
  {
   "cell_type": "code",
   "execution_count": 7,
   "id": "f3413bd9",
   "metadata": {},
   "outputs": [
    {
     "name": "stdout",
     "output_type": "stream",
     "text": [
      "omkar/pomendkar\n"
     ]
    }
   ],
   "source": [
    "print(\"omkar\",\"pomendkar\",sep = '/')"
   ]
  },
  {
   "cell_type": "code",
   "execution_count": 8,
   "id": "b767eff8",
   "metadata": {},
   "outputs": [
    {
     "name": "stdout",
     "output_type": "stream",
     "text": [
      "omkar-Pomendkar\n"
     ]
    }
   ],
   "source": [
    "print(\"omkar\",\"Pomendkar\",sep = \"-\")"
   ]
  },
  {
   "cell_type": "code",
   "execution_count": 10,
   "id": "cf8cec60",
   "metadata": {},
   "outputs": [
    {
     "name": "stdout",
     "output_type": "stream",
     "text": [
      "Hello World  This is Omkar\n"
     ]
    }
   ],
   "source": [
    "print(\"Hello World\" , end = \" \")\n",
    "print(\" This is Omkar\")"
   ]
  },
  {
   "cell_type": "code",
   "execution_count": 11,
   "id": "f77fbbf9",
   "metadata": {},
   "outputs": [
    {
     "name": "stdout",
     "output_type": "stream",
     "text": [
      "Omkar Pomendkar\n"
     ]
    }
   ],
   "source": [
    "print(\"Omkar Pomendkar\")"
   ]
  },
  {
   "cell_type": "code",
   "execution_count": 5,
   "id": "ab17d60c",
   "metadata": {},
   "outputs": [
    {
     "name": "stdout",
     "output_type": "stream",
     "text": [
      "What is your Favourite Colour Green\n",
      "Green\n",
      "<class 'str'>\n"
     ]
    }
   ],
   "source": [
    "# Python Input \n",
    "colour = input(\"What is your Favourite Colour \")\n",
    "print(colour)\n",
    "print(type(colour))\n",
    "# Takes the input from User and by default its type is String"
   ]
  },
  {
   "cell_type": "code",
   "execution_count": 11,
   "id": "d168b3cb",
   "metadata": {},
   "outputs": [
    {
     "name": "stdout",
     "output_type": "stream",
     "text": [
      "Beautiful Colour\n",
      "I Love this_colour Dark Red\n"
     ]
    }
   ],
   "source": [
    "# Python Output\n",
    "print(\"Beautiful Colour\")\n",
    "# We can make use sep = ' ' and end='\\n'\n",
    "print(\"I Love this\" ,\"colour\", sep = '_', end = ' ')\n",
    "print(\"Dark Red\")"
   ]
  },
  {
   "cell_type": "code",
   "execution_count": 1,
   "id": "5c801886",
   "metadata": {},
   "outputs": [
    {
     "name": "stdout",
     "output_type": "stream",
     "text": [
      "Omkar\n"
     ]
    }
   ],
   "source": [
    "print(\"Omkar\")"
   ]
  },
  {
   "cell_type": "code",
   "execution_count": 2,
   "id": "de0b047b",
   "metadata": {},
   "outputs": [
    {
     "name": "stdout",
     "output_type": "stream",
     "text": [
      "Omkar Pomendkar 89 45\n"
     ]
    }
   ],
   "source": [
    "print(\"Omkar Pomendkar\",89,45)"
   ]
  },
  {
   "cell_type": "code",
   "execution_count": 3,
   "id": "cb4862ba",
   "metadata": {},
   "outputs": [
    {
     "name": "stdout",
     "output_type": "stream",
     "text": [
      "Omkar Pomendkar\n"
     ]
    }
   ],
   "source": [
    "print(\"Omkar Pomendkar\", sep = '&&&')"
   ]
  },
  {
   "cell_type": "code",
   "execution_count": 6,
   "id": "1e6b4ce8",
   "metadata": {},
   "outputs": [
    {
     "name": "stdout",
     "output_type": "stream",
     "text": [
      "Omkar & Pomendkar\n"
     ]
    }
   ],
   "source": [
    "print(\"Omkar\" ,  \"Pomendkar\", sep = ' & ')"
   ]
  },
  {
   "cell_type": "code",
   "execution_count": 8,
   "id": "6415f8b1",
   "metadata": {},
   "outputs": [
    {
     "name": "stdout",
     "output_type": "stream",
     "text": [
      "Omkar Pomendkar  OMkar\n"
     ]
    }
   ],
   "source": [
    "print(\"Omkar Pomendkar \" , end = ' ' )\n",
    "print(\"OMkar\")"
   ]
  },
  {
   "cell_type": "code",
   "execution_count": null,
   "id": "5c060d7a",
   "metadata": {},
   "outputs": [],
   "source": [
    "try: \n",
    "    num = int(input(\"Enter the Number\"))\n",
    "except: Exception as e \n",
    "    print(e)"
   ]
  },
  {
   "cell_type": "code",
   "execution_count": null,
   "id": "981e883a",
   "metadata": {},
   "outputs": [],
   "source": []
  },
  {
   "cell_type": "code",
   "execution_count": null,
   "id": "aa7b730f",
   "metadata": {},
   "outputs": [],
   "source": []
  }
 ],
 "metadata": {
  "kernelspec": {
   "display_name": "Python 3 (ipykernel)",
   "language": "python",
   "name": "python3"
  },
  "language_info": {
   "codemirror_mode": {
    "name": "ipython",
    "version": 3
   },
   "file_extension": ".py",
   "mimetype": "text/x-python",
   "name": "python",
   "nbconvert_exporter": "python",
   "pygments_lexer": "ipython3",
   "version": "3.9.13"
  }
 },
 "nbformat": 4,
 "nbformat_minor": 5
}
