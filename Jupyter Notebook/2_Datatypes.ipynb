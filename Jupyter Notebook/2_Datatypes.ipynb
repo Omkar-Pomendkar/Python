{
 "cells": [
  {
   "cell_type": "markdown",
   "id": "13ee9080",
   "metadata": {},
   "source": [
    "# Python Supports 3 Categories of Datatypes:\n",
    "    . Basic Types (Integer,float,complex,boolean,Strings)\n",
    "    . Container Types (List , Tuples , Sets,Dictionary)\n",
    "    . User-defined Types - Class"
   ]
  },
  {
   "cell_type": "code",
   "execution_count": 1,
   "id": "eaa6c3c7",
   "metadata": {},
   "outputs": [
    {
     "name": "stdout",
     "output_type": "stream",
     "text": [
      "4\n",
      "inf\n"
     ]
    }
   ],
   "source": [
    "# Integer\n",
    "print(4)\n",
    "print(1e309)"
   ]
  },
  {
   "cell_type": "code",
   "execution_count": 2,
   "id": "5d331934",
   "metadata": {},
   "outputs": [
    {
     "name": "stdout",
     "output_type": "stream",
     "text": [
      "45.6\n",
      "1.7e+308\n"
     ]
    }
   ],
   "source": [
    "# float \n",
    "print(45.6)\n",
    "print(1.7e308)"
   ]
  },
  {
   "cell_type": "code",
   "execution_count": 3,
   "id": "c89298f3",
   "metadata": {},
   "outputs": [
    {
     "name": "stdout",
     "output_type": "stream",
     "text": [
      "True\n"
     ]
    }
   ],
   "source": [
    "# boolean \n",
    "print(True)"
   ]
  },
  {
   "cell_type": "code",
   "execution_count": 5,
   "id": "1cec5119",
   "metadata": {},
   "outputs": [
    {
     "name": "stdout",
     "output_type": "stream",
     "text": [
      "34j\n"
     ]
    }
   ],
   "source": [
    "#Complex \n",
    "print(34j)"
   ]
  },
  {
   "cell_type": "code",
   "execution_count": 6,
   "id": "5c2ece4d",
   "metadata": {},
   "outputs": [
    {
     "name": "stdout",
     "output_type": "stream",
     "text": [
      "Omkar Sanjay Pomendkar\n"
     ]
    }
   ],
   "source": [
    "# String\n",
    "print('Omkar',\"Sanjay\",\"\"\"Pomendkar\"\"\")"
   ]
  },
  {
   "cell_type": "code",
   "execution_count": 7,
   "id": "d4ec5ff0",
   "metadata": {},
   "outputs": [],
   "source": [
    "#List \n",
    "l = [23,23,23]"
   ]
  },
  {
   "cell_type": "code",
   "execution_count": 8,
   "id": "2f6bf063",
   "metadata": {},
   "outputs": [],
   "source": [
    "# Tuple\n",
    "t = (45,45454545,5454)"
   ]
  },
  {
   "cell_type": "code",
   "execution_count": 11,
   "id": "97c58de7",
   "metadata": {},
   "outputs": [
    {
     "name": "stdout",
     "output_type": "stream",
     "text": [
      "{34, 343434}\n"
     ]
    }
   ],
   "source": [
    "# Sets\n",
    "s = {34,343434,34,34,34,34,34,34}\n",
    "print(s)"
   ]
  },
  {
   "cell_type": "code",
   "execution_count": 13,
   "id": "d4019d80",
   "metadata": {},
   "outputs": [
    {
     "name": "stdout",
     "output_type": "stream",
     "text": [
      "{'1': 'One', '2': 'Two'}\n"
     ]
    }
   ],
   "source": [
    "#dictionary\n",
    "d = {\"1\": \"One\",\"2\":\"Two\"}\n",
    "print(d)"
   ]
  },
  {
   "cell_type": "code",
   "execution_count": null,
   "id": "5b0a4adf",
   "metadata": {},
   "outputs": [],
   "source": []
  }
 ],
 "metadata": {
  "kernelspec": {
   "display_name": "Python 3 (ipykernel)",
   "language": "python",
   "name": "python3"
  },
  "language_info": {
   "codemirror_mode": {
    "name": "ipython",
    "version": 3
   },
   "file_extension": ".py",
   "mimetype": "text/x-python",
   "name": "python",
   "nbconvert_exporter": "python",
   "pygments_lexer": "ipython3",
   "version": "3.9.13"
  }
 },
 "nbformat": 4,
 "nbformat_minor": 5
}
