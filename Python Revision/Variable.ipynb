{
 "cells": [
  {
   "cell_type": "code",
   "execution_count": 1,
   "id": "f114f079",
   "metadata": {},
   "outputs": [],
   "source": [
    "# Variables are placeholders in Memory"
   ]
  },
  {
   "cell_type": "code",
   "execution_count": 3,
   "id": "759446f8",
   "metadata": {},
   "outputs": [
    {
     "ename": "SyntaxError",
     "evalue": "invalid syntax (2721642345.py, line 3)",
     "output_type": "error",
     "traceback": [
      "\u001b[1;36m  File \u001b[1;32m\"C:\\Program Files\\KMSpico\\temp\\ipykernel_13784\\2721642345.py\"\u001b[1;36m, line \u001b[1;32m3\u001b[0m\n\u001b[1;33m    2c = dinesh      # Not possible to in python\u001b[0m\n\u001b[1;37m     ^\u001b[0m\n\u001b[1;31mSyntaxError\u001b[0m\u001b[1;31m:\u001b[0m invalid syntax\n"
     ]
    }
   ],
   "source": [
    "a = 10\n",
    "_b = _Omkar\n",
    "2c = dinesh      # Not possible to in python\n",
    "d = ABCD\n"
   ]
  },
  {
   "cell_type": "code",
   "execution_count": 4,
   "id": "c331ed16",
   "metadata": {},
   "outputs": [
    {
     "name": "stdout",
     "output_type": "stream",
     "text": [
      "10\n"
     ]
    }
   ],
   "source": [
    "a = 10\n",
    "print(a)"
   ]
  },
  {
   "cell_type": "code",
   "execution_count": 5,
   "id": "ac017d4f",
   "metadata": {},
   "outputs": [
    {
     "ename": "SyntaxError",
     "evalue": "invalid syntax (3084397139.py, line 1)",
     "output_type": "error",
     "traceback": [
      "\u001b[1;36m  File \u001b[1;32m\"C:\\Program Files\\KMSpico\\temp\\ipykernel_13784\\3084397139.py\"\u001b[1;36m, line \u001b[1;32m1\u001b[0m\n\u001b[1;33m    3a = 67\u001b[0m\n\u001b[1;37m     ^\u001b[0m\n\u001b[1;31mSyntaxError\u001b[0m\u001b[1;31m:\u001b[0m invalid syntax\n"
     ]
    }
   ],
   "source": [
    "3a = 67"
   ]
  },
  {
   "cell_type": "code",
   "execution_count": 6,
   "id": "0e27c5cf",
   "metadata": {},
   "outputs": [],
   "source": [
    "omkar_90 = \"omkarpomendkar\""
   ]
  },
  {
   "cell_type": "code",
   "execution_count": 7,
   "id": "bb97e074",
   "metadata": {},
   "outputs": [
    {
     "data": {
      "text/plain": [
       "'omkarpomendkar'"
      ]
     },
     "execution_count": 7,
     "metadata": {},
     "output_type": "execute_result"
    }
   ],
   "source": [
    "omkar_90"
   ]
  },
  {
   "cell_type": "code",
   "execution_count": 9,
   "id": "28b11d8c",
   "metadata": {},
   "outputs": [],
   "source": [
    "d = 'Ad'"
   ]
  },
  {
   "cell_type": "code",
   "execution_count": 10,
   "id": "7ac846be",
   "metadata": {},
   "outputs": [
    {
     "data": {
      "text/plain": [
       "'Ad'"
      ]
     },
     "execution_count": 10,
     "metadata": {},
     "output_type": "execute_result"
    }
   ],
   "source": [
    "d"
   ]
  },
  {
   "cell_type": "code",
   "execution_count": 11,
   "id": "55008580",
   "metadata": {},
   "outputs": [],
   "source": [
    "d = 'r'"
   ]
  },
  {
   "cell_type": "code",
   "execution_count": 12,
   "id": "0b503ff5",
   "metadata": {},
   "outputs": [],
   "source": [
    "# INbuilt keywords can't beused"
   ]
  },
  {
   "cell_type": "code",
   "execution_count": 16,
   "id": "ca1ebc5e",
   "metadata": {},
   "outputs": [
    {
     "name": "stdout",
     "output_type": "stream",
     "text": [
      "\n",
      "Here is a list of the Python keywords.  Enter any keyword to get more help.\n",
      "\n",
      "False               break               for                 not\n",
      "None                class               from                or\n",
      "True                continue            global              pass\n",
      "__peg_parser__      def                 if                  raise\n",
      "and                 del                 import              return\n",
      "as                  elif                in                  try\n",
      "assert              else                is                  while\n",
      "async               except              lambda              with\n",
      "await               finally             nonlocal            yield\n",
      "\n"
     ]
    }
   ],
   "source": [
    "help('keywords')"
   ]
  },
  {
   "cell_type": "code",
   "execution_count": 17,
   "id": "178fe7f4",
   "metadata": {},
   "outputs": [
    {
     "ename": "SyntaxError",
     "evalue": "invalid syntax (1436705308.py, line 1)",
     "output_type": "error",
     "traceback": [
      "\u001b[1;36m  File \u001b[1;32m\"C:\\Program Files\\KMSpico\\temp\\ipykernel_13784\\1436705308.py\"\u001b[1;36m, line \u001b[1;32m1\u001b[0m\n\u001b[1;33m    for = Omkar\u001b[0m\n\u001b[1;37m        ^\u001b[0m\n\u001b[1;31mSyntaxError\u001b[0m\u001b[1;31m:\u001b[0m invalid syntax\n"
     ]
    }
   ],
   "source": [
    "for = Omkar"
   ]
  },
  {
   "cell_type": "code",
   "execution_count": 18,
   "id": "b37ee456",
   "metadata": {},
   "outputs": [
    {
     "data": {
      "text/plain": [
       "2149279080240"
      ]
     },
     "execution_count": 18,
     "metadata": {},
     "output_type": "execute_result"
    }
   ],
   "source": [
    "id(d)"
   ]
  },
  {
   "cell_type": "code",
   "execution_count": 21,
   "id": "5e498568",
   "metadata": {},
   "outputs": [
    {
     "name": "stdout",
     "output_type": "stream",
     "text": [
      "10\n"
     ]
    }
   ],
   "source": [
    "# To Find Memory Location of Variable\n",
    "a = 10 \n",
    "print(a)"
   ]
  },
  {
   "cell_type": "code",
   "execution_count": 22,
   "id": "aa7a41d0",
   "metadata": {},
   "outputs": [
    {
     "data": {
      "text/plain": [
       "2149272611408"
      ]
     },
     "execution_count": 22,
     "metadata": {},
     "output_type": "execute_result"
    }
   ],
   "source": [
    "id(a)"
   ]
  },
  {
   "cell_type": "code",
   "execution_count": 24,
   "id": "26ae9cbf",
   "metadata": {},
   "outputs": [],
   "source": [
    "# From Stack Memory to Heap Memory it is Deferencing  each and everytime the Value is Change"
   ]
  },
  {
   "cell_type": "code",
   "execution_count": 25,
   "id": "16447055",
   "metadata": {},
   "outputs": [
    {
     "name": "stdout",
     "output_type": "stream",
     "text": [
      "Enter your Product Name Omkar\n",
      "Omkar\n"
     ]
    }
   ],
   "source": [
    "a = input(\"Enter your Product Name \")\n",
    "print(a)"
   ]
  },
  {
   "cell_type": "code",
   "execution_count": 29,
   "id": "02401c37",
   "metadata": {},
   "outputs": [
    {
     "name": "stdout",
     "output_type": "stream",
     "text": [
      "Enter the Number89\n"
     ]
    }
   ],
   "source": [
    "s = float(input(\"Enter the Number\"))"
   ]
  },
  {
   "cell_type": "code",
   "execution_count": 30,
   "id": "13956b87",
   "metadata": {},
   "outputs": [
    {
     "data": {
      "text/plain": [
       "89.0"
      ]
     },
     "execution_count": 30,
     "metadata": {},
     "output_type": "execute_result"
    }
   ],
   "source": [
    "s"
   ]
  },
  {
   "cell_type": "code",
   "execution_count": 31,
   "id": "1c22dd0c",
   "metadata": {},
   "outputs": [
    {
     "data": {
      "text/plain": [
       "float"
      ]
     },
     "execution_count": 31,
     "metadata": {},
     "output_type": "execute_result"
    }
   ],
   "source": [
    "type(s)"
   ]
  },
  {
   "cell_type": "code",
   "execution_count": 32,
   "id": "565767c7",
   "metadata": {},
   "outputs": [],
   "source": [
    "# Here you cannot convert String to Integer"
   ]
  },
  {
   "cell_type": "code",
   "execution_count": 33,
   "id": "99242f92",
   "metadata": {},
   "outputs": [
    {
     "data": {
      "text/plain": [
       "float"
      ]
     },
     "execution_count": 33,
     "metadata": {},
     "output_type": "execute_result"
    }
   ],
   "source": [
    "type(1.5)"
   ]
  },
  {
   "cell_type": "code",
   "execution_count": 35,
   "id": "0bfedaed",
   "metadata": {},
   "outputs": [
    {
     "name": "stdout",
     "output_type": "stream",
     "text": [
      "omkar 67 wow [34, 5, 667, 90]\n"
     ]
    }
   ],
   "source": [
    "print(\"omkar\",67,\"wow\",[34,5,667,90])"
   ]
  },
  {
   "cell_type": "code",
   "execution_count": 36,
   "id": "515dc7e3",
   "metadata": {},
   "outputs": [
    {
     "name": "stdout",
     "output_type": "stream",
     "text": [
      "omkar,Pomendkar,45,56\n"
     ]
    }
   ],
   "source": [
    "print(\"omkar\",\"Pomendkar\",45,56 , sep=',')"
   ]
  },
  {
   "cell_type": "code",
   "execution_count": 42,
   "id": "0ab84f6d",
   "metadata": {},
   "outputs": [
    {
     "name": "stdout",
     "output_type": "stream",
     "text": [
      "Omkar Pomendkar Sanjay\n"
     ]
    }
   ],
   "source": [
    "print(\"Omkar\",\"Pomendkar\" ,end = \" \")\n",
    "print(\"Sanjay\")"
   ]
  },
  {
   "cell_type": "code",
   "execution_count": 43,
   "id": "2ab209a7",
   "metadata": {},
   "outputs": [
    {
     "name": "stdout",
     "output_type": "stream",
     "text": [
      "omkar#Pomendkar#45#56\n"
     ]
    }
   ],
   "source": [
    "print(\"omkar\",\"Pomendkar\",45,56 , sep='#')"
   ]
  },
  {
   "cell_type": "code",
   "execution_count": 44,
   "id": "a928e4cb",
   "metadata": {},
   "outputs": [
    {
     "name": "stdout",
     "output_type": "stream",
     "text": [
      "omkar()Pomendkar()45()56\n"
     ]
    }
   ],
   "source": [
    "print(\"omkar\",\"Pomendkar\",45,56 , sep='()')"
   ]
  },
  {
   "cell_type": "code",
   "execution_count": 45,
   "id": "1485169f",
   "metadata": {},
   "outputs": [
    {
     "name": "stdout",
     "output_type": "stream",
     "text": [
      "omkarILUPomendkarILU45ILU56\n"
     ]
    }
   ],
   "source": [
    "print(\"omkar\",\"Pomendkar\",45,56 , sep='ILU')"
   ]
  },
  {
   "cell_type": "code",
   "execution_count": 47,
   "id": "f585fa0c",
   "metadata": {},
   "outputs": [
    {
     "name": "stdout",
     "output_type": "stream",
     "text": [
      "omkar@Pomendkar@45@56\n",
      "omkar@Pomendkar@45@56\n"
     ]
    }
   ],
   "source": [
    "print(\"omkar\",\"Pomendkar\",45,56 , sep='@' , end = \"\\n\")\n",
    "print(\"omkar\",\"Pomendkar\",45,56 , sep='@' , end = \"\\n\")"
   ]
  },
  {
   "cell_type": "code",
   "execution_count": null,
   "id": "8ed8c77f",
   "metadata": {},
   "outputs": [],
   "source": []
  }
 ],
 "metadata": {
  "kernelspec": {
   "display_name": "Python 3 (ipykernel)",
   "language": "python",
   "name": "python3"
  },
  "language_info": {
   "codemirror_mode": {
    "name": "ipython",
    "version": 3
   },
   "file_extension": ".py",
   "mimetype": "text/x-python",
   "name": "python",
   "nbconvert_exporter": "python",
   "pygments_lexer": "ipython3",
   "version": "3.9.13"
  }
 },
 "nbformat": 4,
 "nbformat_minor": 5
}
