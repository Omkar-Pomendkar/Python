{
 "cells": [
  {
   "cell_type": "code",
   "execution_count": 7,
   "id": "5e942a18",
   "metadata": {},
   "outputs": [
    {
     "name": "stdout",
     "output_type": "stream",
     "text": [
      "Enter your Age78\n",
      "78 You can Drive a Car\n"
     ]
    }
   ],
   "source": [
    "age = int(input(\"Enter your Age\"))\n",
    "\n",
    "if age >= 18:\n",
    "    print(age,\"You can Drive a Car\")\n",
    "else:\n",
    "    print(age ,\"You can't drive a Car\")"
   ]
  },
  {
   "cell_type": "code",
   "execution_count": 4,
   "id": "fd3988db",
   "metadata": {},
   "outputs": [
    {
     "name": "stdout",
     "output_type": "stream",
     "text": [
      "-98 You can't drive a Car\n"
     ]
    }
   ],
   "source": []
  },
  {
   "cell_type": "code",
   "execution_count": null,
   "id": "a17a5553",
   "metadata": {},
   "outputs": [],
   "source": []
  }
 ],
 "metadata": {
  "kernelspec": {
   "display_name": "Python 3 (ipykernel)",
   "language": "python",
   "name": "python3"
  },
  "language_info": {
   "codemirror_mode": {
    "name": "ipython",
    "version": 3
   },
   "file_extension": ".py",
   "mimetype": "text/x-python",
   "name": "python",
   "nbconvert_exporter": "python",
   "pygments_lexer": "ipython3",
   "version": "3.9.13"
  }
 },
 "nbformat": 4,
 "nbformat_minor": 5
}
